{
 "cells": [
  {
   "cell_type": "code",
   "execution_count": 1,
   "metadata": {},
   "outputs": [
    {
     "name": "stderr",
     "output_type": "stream",
     "text": [
      "D:\\Anaconda\\Lib\\site-packages\\pandas\\core\\computation\\expressions.py:21: UserWarning: Pandas requires version '2.8.4' or newer of 'numexpr' (version '2.8.3' currently installed).\n",
      "  from pandas.core.computation.check import NUMEXPR_INSTALLED\n",
      "D:\\Anaconda\\Lib\\site-packages\\pandas\\core\\arrays\\masked.py:60: UserWarning: Pandas requires version '1.3.6' or newer of 'bottleneck' (version '1.3.5' currently installed).\n",
      "  from pandas.core import (\n"
     ]
    }
   ],
   "source": [
    "import os\n",
    "import time\n",
    "import math\n",
    "import random\n",
    "import warnings\n",
    "import numpy as np\n",
    "import pandas as pd\n",
    "import seaborn as sns\n",
    "import matplotlib.pyplot as plt\n",
    "import transformers\n",
    "\n",
    "from datetime import date\n",
    "from transformers import BertModel,BertTokenizer,BertConfig,BertTokenizerFast\n",
    "from sklearn.metrics import *\n",
    "from tqdm.notebook import tqdm\n",
    "\n",
    "import torch\n",
    "import torch.nn as nn\n",
    "import torch.utils.data\n",
    "import torch.nn.functional as F\n",
    "\n",
    "from torch import Tensor\n",
    "from torch.optim import *\n",
    "from torch.nn.modules.loss import *\n",
    "from torch.optim.lr_scheduler import *\n",
    "from torch.utils.data import DataLoader,Dataset\n",
    "\n",
    "from nltk.tokenize import word_tokenize\n",
    "import spacy\n",
    "\n",
    "import re\n",
    "import string\n",
    "from nltk.corpus import stopwords\n",
    "from nltk.stem import WordNetLemmatizer\n",
    "\n",
    "\n",
    "from sklearn.metrics import confusion_matrix\n",
    "\n",
    "import os\n",
    "os.environ['CUDA_LAUNCH_BLOCKING'] = '1'"
   ]
  },
  {
   "cell_type": "code",
   "execution_count": 2,
   "metadata": {},
   "outputs": [],
   "source": [
    "import pandas as pd\n",
    "\n",
    "\n",
    "df=pd.read_csv(r\"D:\\华科学习\\毕业设计\\data\\train.csv\\train.csv\")"
   ]
  },
  {
   "cell_type": "code",
   "execution_count": 17,
   "metadata": {},
   "outputs": [],
   "source": [
    "df=pd.read_csv(r'c:\\Users\\Hero Stephen\\Desktop\\咸鱼\\label_data.csv')"
   ]
  },
  {
   "cell_type": "markdown",
   "metadata": {},
   "source": [
    "***exploration***"
   ]
  },
  {
   "cell_type": "code",
   "execution_count": 3,
   "metadata": {},
   "outputs": [
    {
     "data": {
      "text/plain": [
       "48269    73\n",
       "56240    67\n",
       "17755    57\n",
       "4723     49\n",
       "68771    49\n",
       "         ..\n",
       "28512     2\n",
       "63043     2\n",
       "31250     2\n",
       "34849     2\n",
       "26091     2\n",
       "Name: tweets, Length: 81408, dtype: int64"
      ]
     },
     "execution_count": 3,
     "metadata": {},
     "output_type": "execute_result"
    }
   ],
   "source": [
    "df['tweets'].apply(lambda x:len(word_tokenize(x))).sort_values(ascending=False)"
   ]
  },
  {
   "cell_type": "code",
   "execution_count": 4,
   "metadata": {},
   "outputs": [
    {
     "name": "stderr",
     "output_type": "stream",
     "text": [
      "D:\\Anaconda\\Lib\\site-packages\\spacy\\util.py:910: UserWarning: [W095] Model 'en_core_web_sm' (3.0.0) was trained with spaCy v3.0.0 and may not be 100% compatible with the current version (3.7.2). If you see errors or degraded performance, download a newer compatible model or retrain your custom model with the current spaCy version. For more details and available updates, run: python -m spacy validate\n",
      "  warnings.warn(warn_msg)\n"
     ]
    },
    {
     "ename": "KeyboardInterrupt",
     "evalue": "",
     "output_type": "error",
     "traceback": [
      "\u001b[1;31m---------------------------------------------------------------------------\u001b[0m",
      "\u001b[1;31mKeyboardInterrupt\u001b[0m                         Traceback (most recent call last)",
      "\u001b[1;32m~\\AppData\\Local\\Temp\\ipykernel_113424\\3016680645.py\u001b[0m in \u001b[0;36m<module>\u001b[1;34m\u001b[0m\n\u001b[0;32m      4\u001b[0m \u001b[1;33m\u001b[0m\u001b[0m\n\u001b[0;32m      5\u001b[0m \u001b[1;32mfor\u001b[0m \u001b[0mtext\u001b[0m \u001b[1;32min\u001b[0m \u001b[0mdf\u001b[0m\u001b[1;33m[\u001b[0m\u001b[0mdf\u001b[0m\u001b[1;33m[\u001b[0m\u001b[1;34m'class'\u001b[0m\u001b[1;33m]\u001b[0m\u001b[1;33m==\u001b[0m\u001b[1;34m'irony'\u001b[0m\u001b[1;33m]\u001b[0m\u001b[1;33m[\u001b[0m\u001b[1;34m'tweets'\u001b[0m\u001b[1;33m]\u001b[0m\u001b[1;33m:\u001b[0m\u001b[1;33m\u001b[0m\u001b[1;33m\u001b[0m\u001b[0m\n\u001b[1;32m----> 6\u001b[1;33m     \u001b[0mdoc\u001b[0m\u001b[1;33m=\u001b[0m\u001b[0mnlp\u001b[0m\u001b[1;33m(\u001b[0m\u001b[0mtext\u001b[0m\u001b[1;33m)\u001b[0m\u001b[1;33m\u001b[0m\u001b[1;33m\u001b[0m\u001b[0m\n\u001b[0m\u001b[0;32m      7\u001b[0m     \u001b[1;32mfor\u001b[0m \u001b[0mtoken\u001b[0m \u001b[1;32min\u001b[0m \u001b[0mdoc\u001b[0m\u001b[1;33m:\u001b[0m\u001b[1;33m\u001b[0m\u001b[1;33m\u001b[0m\u001b[0m\n\u001b[0;32m      8\u001b[0m         \u001b[0mpos_ls\u001b[0m\u001b[1;33m.\u001b[0m\u001b[0mappend\u001b[0m\u001b[1;33m(\u001b[0m\u001b[0mtoken\u001b[0m\u001b[1;33m.\u001b[0m\u001b[0mpos_\u001b[0m\u001b[1;33m)\u001b[0m\u001b[1;33m\u001b[0m\u001b[1;33m\u001b[0m\u001b[0m\n",
      "\u001b[1;32mD:\\Anaconda\\Lib\\site-packages\\spacy\\language.py\u001b[0m in \u001b[0;36m__call__\u001b[1;34m(self, text, disable, component_cfg)\u001b[0m\n\u001b[0;32m   1047\u001b[0m                 \u001b[0merror_handler\u001b[0m \u001b[1;33m=\u001b[0m \u001b[0mproc\u001b[0m\u001b[1;33m.\u001b[0m\u001b[0mget_error_handler\u001b[0m\u001b[1;33m(\u001b[0m\u001b[1;33m)\u001b[0m\u001b[1;33m\u001b[0m\u001b[1;33m\u001b[0m\u001b[0m\n\u001b[0;32m   1048\u001b[0m             \u001b[1;32mtry\u001b[0m\u001b[1;33m:\u001b[0m\u001b[1;33m\u001b[0m\u001b[1;33m\u001b[0m\u001b[0m\n\u001b[1;32m-> 1049\u001b[1;33m                 \u001b[0mdoc\u001b[0m \u001b[1;33m=\u001b[0m \u001b[0mproc\u001b[0m\u001b[1;33m(\u001b[0m\u001b[0mdoc\u001b[0m\u001b[1;33m,\u001b[0m \u001b[1;33m**\u001b[0m\u001b[0mcomponent_cfg\u001b[0m\u001b[1;33m.\u001b[0m\u001b[0mget\u001b[0m\u001b[1;33m(\u001b[0m\u001b[0mname\u001b[0m\u001b[1;33m,\u001b[0m \u001b[1;33m{\u001b[0m\u001b[1;33m}\u001b[0m\u001b[1;33m)\u001b[0m\u001b[1;33m)\u001b[0m  \u001b[1;31m# type: ignore[call-arg]\u001b[0m\u001b[1;33m\u001b[0m\u001b[1;33m\u001b[0m\u001b[0m\n\u001b[0m\u001b[0;32m   1050\u001b[0m             \u001b[1;32mexcept\u001b[0m \u001b[0mKeyError\u001b[0m \u001b[1;32mas\u001b[0m \u001b[0me\u001b[0m\u001b[1;33m:\u001b[0m\u001b[1;33m\u001b[0m\u001b[1;33m\u001b[0m\u001b[0m\n\u001b[0;32m   1051\u001b[0m                 \u001b[1;31m# This typically happens if a component is not initialized\u001b[0m\u001b[1;33m\u001b[0m\u001b[1;33m\u001b[0m\u001b[0m\n",
      "\u001b[1;32mD:\\Anaconda\\Lib\\site-packages\\spacy\\pipeline\\trainable_pipe.pyx\u001b[0m in \u001b[0;36mspacy.pipeline.trainable_pipe.TrainablePipe.__call__\u001b[1;34m()\u001b[0m\n",
      "\u001b[1;32mD:\\Anaconda\\Lib\\site-packages\\spacy\\pipeline\\tok2vec.py\u001b[0m in \u001b[0;36mpredict\u001b[1;34m(self, docs)\u001b[0m\n\u001b[0;32m    124\u001b[0m             \u001b[0mwidth\u001b[0m \u001b[1;33m=\u001b[0m \u001b[0mself\u001b[0m\u001b[1;33m.\u001b[0m\u001b[0mmodel\u001b[0m\u001b[1;33m.\u001b[0m\u001b[0mget_dim\u001b[0m\u001b[1;33m(\u001b[0m\u001b[1;34m\"nO\"\u001b[0m\u001b[1;33m)\u001b[0m\u001b[1;33m\u001b[0m\u001b[1;33m\u001b[0m\u001b[0m\n\u001b[0;32m    125\u001b[0m             \u001b[1;32mreturn\u001b[0m \u001b[1;33m[\u001b[0m\u001b[0mself\u001b[0m\u001b[1;33m.\u001b[0m\u001b[0mmodel\u001b[0m\u001b[1;33m.\u001b[0m\u001b[0mops\u001b[0m\u001b[1;33m.\u001b[0m\u001b[0malloc\u001b[0m\u001b[1;33m(\u001b[0m\u001b[1;33m(\u001b[0m\u001b[1;36m0\u001b[0m\u001b[1;33m,\u001b[0m \u001b[0mwidth\u001b[0m\u001b[1;33m)\u001b[0m\u001b[1;33m)\u001b[0m \u001b[1;32mfor\u001b[0m \u001b[0mdoc\u001b[0m \u001b[1;32min\u001b[0m \u001b[0mdocs\u001b[0m\u001b[1;33m]\u001b[0m\u001b[1;33m\u001b[0m\u001b[1;33m\u001b[0m\u001b[0m\n\u001b[1;32m--> 126\u001b[1;33m         \u001b[0mtokvecs\u001b[0m \u001b[1;33m=\u001b[0m \u001b[0mself\u001b[0m\u001b[1;33m.\u001b[0m\u001b[0mmodel\u001b[0m\u001b[1;33m.\u001b[0m\u001b[0mpredict\u001b[0m\u001b[1;33m(\u001b[0m\u001b[0mdocs\u001b[0m\u001b[1;33m)\u001b[0m\u001b[1;33m\u001b[0m\u001b[1;33m\u001b[0m\u001b[0m\n\u001b[0m\u001b[0;32m    127\u001b[0m         \u001b[1;32mreturn\u001b[0m \u001b[0mtokvecs\u001b[0m\u001b[1;33m\u001b[0m\u001b[1;33m\u001b[0m\u001b[0m\n\u001b[0;32m    128\u001b[0m \u001b[1;33m\u001b[0m\u001b[0m\n",
      "\u001b[1;32mD:\\Anaconda\\Lib\\site-packages\\thinc\\model.py\u001b[0m in \u001b[0;36mpredict\u001b[1;34m(self, X)\u001b[0m\n\u001b[0;32m    332\u001b[0m         \u001b[0monly\u001b[0m \u001b[0mthe\u001b[0m \u001b[0moutput\u001b[0m\u001b[1;33m,\u001b[0m \u001b[0minstead\u001b[0m \u001b[0mof\u001b[0m \u001b[0mthe\u001b[0m\u001b[0;31m \u001b[0m\u001b[0;31m`\u001b[0m\u001b[1;33m(\u001b[0m\u001b[0moutput\u001b[0m\u001b[1;33m,\u001b[0m \u001b[0mcallback\u001b[0m\u001b[1;33m)\u001b[0m\u001b[0;31m`\u001b[0m \u001b[0mtuple\u001b[0m\u001b[1;33m.\u001b[0m\u001b[1;33m\u001b[0m\u001b[1;33m\u001b[0m\u001b[0m\n\u001b[0;32m    333\u001b[0m         \"\"\"\n\u001b[1;32m--> 334\u001b[1;33m         \u001b[1;32mreturn\u001b[0m \u001b[0mself\u001b[0m\u001b[1;33m.\u001b[0m\u001b[0m_func\u001b[0m\u001b[1;33m(\u001b[0m\u001b[0mself\u001b[0m\u001b[1;33m,\u001b[0m \u001b[0mX\u001b[0m\u001b[1;33m,\u001b[0m \u001b[0mis_train\u001b[0m\u001b[1;33m=\u001b[0m\u001b[1;32mFalse\u001b[0m\u001b[1;33m)\u001b[0m\u001b[1;33m[\u001b[0m\u001b[1;36m0\u001b[0m\u001b[1;33m]\u001b[0m\u001b[1;33m\u001b[0m\u001b[1;33m\u001b[0m\u001b[0m\n\u001b[0m\u001b[0;32m    335\u001b[0m \u001b[1;33m\u001b[0m\u001b[0m\n\u001b[0;32m    336\u001b[0m     \u001b[1;32mdef\u001b[0m \u001b[0mfinish_update\u001b[0m\u001b[1;33m(\u001b[0m\u001b[0mself\u001b[0m\u001b[1;33m,\u001b[0m \u001b[0moptimizer\u001b[0m\u001b[1;33m:\u001b[0m \u001b[0mOptimizer\u001b[0m\u001b[1;33m)\u001b[0m \u001b[1;33m->\u001b[0m \u001b[1;32mNone\u001b[0m\u001b[1;33m:\u001b[0m\u001b[1;33m\u001b[0m\u001b[1;33m\u001b[0m\u001b[0m\n",
      "\u001b[1;32mD:\\Anaconda\\Lib\\site-packages\\thinc\\layers\\chain.py\u001b[0m in \u001b[0;36mforward\u001b[1;34m(model, X, is_train)\u001b[0m\n\u001b[0;32m     52\u001b[0m     \u001b[0mcallbacks\u001b[0m \u001b[1;33m=\u001b[0m \u001b[1;33m[\u001b[0m\u001b[1;33m]\u001b[0m\u001b[1;33m\u001b[0m\u001b[1;33m\u001b[0m\u001b[0m\n\u001b[0;32m     53\u001b[0m     \u001b[1;32mfor\u001b[0m \u001b[0mlayer\u001b[0m \u001b[1;32min\u001b[0m \u001b[0mmodel\u001b[0m\u001b[1;33m.\u001b[0m\u001b[0mlayers\u001b[0m\u001b[1;33m:\u001b[0m\u001b[1;33m\u001b[0m\u001b[1;33m\u001b[0m\u001b[0m\n\u001b[1;32m---> 54\u001b[1;33m         \u001b[0mY\u001b[0m\u001b[1;33m,\u001b[0m \u001b[0minc_layer_grad\u001b[0m \u001b[1;33m=\u001b[0m \u001b[0mlayer\u001b[0m\u001b[1;33m(\u001b[0m\u001b[0mX\u001b[0m\u001b[1;33m,\u001b[0m \u001b[0mis_train\u001b[0m\u001b[1;33m=\u001b[0m\u001b[0mis_train\u001b[0m\u001b[1;33m)\u001b[0m\u001b[1;33m\u001b[0m\u001b[1;33m\u001b[0m\u001b[0m\n\u001b[0m\u001b[0;32m     55\u001b[0m         \u001b[0mcallbacks\u001b[0m\u001b[1;33m.\u001b[0m\u001b[0mappend\u001b[0m\u001b[1;33m(\u001b[0m\u001b[0minc_layer_grad\u001b[0m\u001b[1;33m)\u001b[0m\u001b[1;33m\u001b[0m\u001b[1;33m\u001b[0m\u001b[0m\n\u001b[0;32m     56\u001b[0m         \u001b[0mX\u001b[0m \u001b[1;33m=\u001b[0m \u001b[0mY\u001b[0m\u001b[1;33m\u001b[0m\u001b[1;33m\u001b[0m\u001b[0m\n",
      "\u001b[1;32mD:\\Anaconda\\Lib\\site-packages\\thinc\\model.py\u001b[0m in \u001b[0;36m__call__\u001b[1;34m(self, X, is_train)\u001b[0m\n\u001b[0;32m    308\u001b[0m         \"\"\"Call the model's `forward` function, returning the output and a\n\u001b[0;32m    309\u001b[0m         callback to compute the gradients via backpropagation.\"\"\"\n\u001b[1;32m--> 310\u001b[1;33m         \u001b[1;32mreturn\u001b[0m \u001b[0mself\u001b[0m\u001b[1;33m.\u001b[0m\u001b[0m_func\u001b[0m\u001b[1;33m(\u001b[0m\u001b[0mself\u001b[0m\u001b[1;33m,\u001b[0m \u001b[0mX\u001b[0m\u001b[1;33m,\u001b[0m \u001b[0mis_train\u001b[0m\u001b[1;33m=\u001b[0m\u001b[0mis_train\u001b[0m\u001b[1;33m)\u001b[0m\u001b[1;33m\u001b[0m\u001b[1;33m\u001b[0m\u001b[0m\n\u001b[0m\u001b[0;32m    311\u001b[0m \u001b[1;33m\u001b[0m\u001b[0m\n\u001b[0;32m    312\u001b[0m     \u001b[1;32mdef\u001b[0m \u001b[0minitialize\u001b[0m\u001b[1;33m(\u001b[0m\u001b[0mself\u001b[0m\u001b[1;33m,\u001b[0m \u001b[0mX\u001b[0m\u001b[1;33m:\u001b[0m \u001b[0mOptional\u001b[0m\u001b[1;33m[\u001b[0m\u001b[0mInT\u001b[0m\u001b[1;33m]\u001b[0m \u001b[1;33m=\u001b[0m \u001b[1;32mNone\u001b[0m\u001b[1;33m,\u001b[0m \u001b[0mY\u001b[0m\u001b[1;33m:\u001b[0m \u001b[0mOptional\u001b[0m\u001b[1;33m[\u001b[0m\u001b[0mOutT\u001b[0m\u001b[1;33m]\u001b[0m \u001b[1;33m=\u001b[0m \u001b[1;32mNone\u001b[0m\u001b[1;33m)\u001b[0m \u001b[1;33m->\u001b[0m \u001b[1;34m\"Model\"\u001b[0m\u001b[1;33m:\u001b[0m\u001b[1;33m\u001b[0m\u001b[1;33m\u001b[0m\u001b[0m\n",
      "\u001b[1;32mD:\\Anaconda\\Lib\\site-packages\\thinc\\layers\\chain.py\u001b[0m in \u001b[0;36mforward\u001b[1;34m(model, X, is_train)\u001b[0m\n\u001b[0;32m     52\u001b[0m     \u001b[0mcallbacks\u001b[0m \u001b[1;33m=\u001b[0m \u001b[1;33m[\u001b[0m\u001b[1;33m]\u001b[0m\u001b[1;33m\u001b[0m\u001b[1;33m\u001b[0m\u001b[0m\n\u001b[0;32m     53\u001b[0m     \u001b[1;32mfor\u001b[0m \u001b[0mlayer\u001b[0m \u001b[1;32min\u001b[0m \u001b[0mmodel\u001b[0m\u001b[1;33m.\u001b[0m\u001b[0mlayers\u001b[0m\u001b[1;33m:\u001b[0m\u001b[1;33m\u001b[0m\u001b[1;33m\u001b[0m\u001b[0m\n\u001b[1;32m---> 54\u001b[1;33m         \u001b[0mY\u001b[0m\u001b[1;33m,\u001b[0m \u001b[0minc_layer_grad\u001b[0m \u001b[1;33m=\u001b[0m \u001b[0mlayer\u001b[0m\u001b[1;33m(\u001b[0m\u001b[0mX\u001b[0m\u001b[1;33m,\u001b[0m \u001b[0mis_train\u001b[0m\u001b[1;33m=\u001b[0m\u001b[0mis_train\u001b[0m\u001b[1;33m)\u001b[0m\u001b[1;33m\u001b[0m\u001b[1;33m\u001b[0m\u001b[0m\n\u001b[0m\u001b[0;32m     55\u001b[0m         \u001b[0mcallbacks\u001b[0m\u001b[1;33m.\u001b[0m\u001b[0mappend\u001b[0m\u001b[1;33m(\u001b[0m\u001b[0minc_layer_grad\u001b[0m\u001b[1;33m)\u001b[0m\u001b[1;33m\u001b[0m\u001b[1;33m\u001b[0m\u001b[0m\n\u001b[0;32m     56\u001b[0m         \u001b[0mX\u001b[0m \u001b[1;33m=\u001b[0m \u001b[0mY\u001b[0m\u001b[1;33m\u001b[0m\u001b[1;33m\u001b[0m\u001b[0m\n",
      "\u001b[1;32mD:\\Anaconda\\Lib\\site-packages\\thinc\\model.py\u001b[0m in \u001b[0;36m__call__\u001b[1;34m(self, X, is_train)\u001b[0m\n\u001b[0;32m    308\u001b[0m         \"\"\"Call the model's `forward` function, returning the output and a\n\u001b[0;32m    309\u001b[0m         callback to compute the gradients via backpropagation.\"\"\"\n\u001b[1;32m--> 310\u001b[1;33m         \u001b[1;32mreturn\u001b[0m \u001b[0mself\u001b[0m\u001b[1;33m.\u001b[0m\u001b[0m_func\u001b[0m\u001b[1;33m(\u001b[0m\u001b[0mself\u001b[0m\u001b[1;33m,\u001b[0m \u001b[0mX\u001b[0m\u001b[1;33m,\u001b[0m \u001b[0mis_train\u001b[0m\u001b[1;33m=\u001b[0m\u001b[0mis_train\u001b[0m\u001b[1;33m)\u001b[0m\u001b[1;33m\u001b[0m\u001b[1;33m\u001b[0m\u001b[0m\n\u001b[0m\u001b[0;32m    311\u001b[0m \u001b[1;33m\u001b[0m\u001b[0m\n\u001b[0;32m    312\u001b[0m     \u001b[1;32mdef\u001b[0m \u001b[0minitialize\u001b[0m\u001b[1;33m(\u001b[0m\u001b[0mself\u001b[0m\u001b[1;33m,\u001b[0m \u001b[0mX\u001b[0m\u001b[1;33m:\u001b[0m \u001b[0mOptional\u001b[0m\u001b[1;33m[\u001b[0m\u001b[0mInT\u001b[0m\u001b[1;33m]\u001b[0m \u001b[1;33m=\u001b[0m \u001b[1;32mNone\u001b[0m\u001b[1;33m,\u001b[0m \u001b[0mY\u001b[0m\u001b[1;33m:\u001b[0m \u001b[0mOptional\u001b[0m\u001b[1;33m[\u001b[0m\u001b[0mOutT\u001b[0m\u001b[1;33m]\u001b[0m \u001b[1;33m=\u001b[0m \u001b[1;32mNone\u001b[0m\u001b[1;33m)\u001b[0m \u001b[1;33m->\u001b[0m \u001b[1;34m\"Model\"\u001b[0m\u001b[1;33m:\u001b[0m\u001b[1;33m\u001b[0m\u001b[1;33m\u001b[0m\u001b[0m\n",
      "\u001b[1;32mD:\\Anaconda\\Lib\\site-packages\\thinc\\layers\\with_array.py\u001b[0m in \u001b[0;36mforward\u001b[1;34m(model, Xseq, is_train)\u001b[0m\n\u001b[0;32m     34\u001b[0m ) -> Tuple[SeqT, Callable]:\n\u001b[0;32m     35\u001b[0m     \u001b[1;32mif\u001b[0m \u001b[0misinstance\u001b[0m\u001b[1;33m(\u001b[0m\u001b[0mXseq\u001b[0m\u001b[1;33m,\u001b[0m \u001b[0mRagged\u001b[0m\u001b[1;33m)\u001b[0m\u001b[1;33m:\u001b[0m\u001b[1;33m\u001b[0m\u001b[1;33m\u001b[0m\u001b[0m\n\u001b[1;32m---> 36\u001b[1;33m         \u001b[1;32mreturn\u001b[0m \u001b[0mcast\u001b[0m\u001b[1;33m(\u001b[0m\u001b[0mTuple\u001b[0m\u001b[1;33m[\u001b[0m\u001b[0mSeqT\u001b[0m\u001b[1;33m,\u001b[0m \u001b[0mCallable\u001b[0m\u001b[1;33m]\u001b[0m\u001b[1;33m,\u001b[0m \u001b[0m_ragged_forward\u001b[0m\u001b[1;33m(\u001b[0m\u001b[0mmodel\u001b[0m\u001b[1;33m,\u001b[0m \u001b[0mXseq\u001b[0m\u001b[1;33m,\u001b[0m \u001b[0mis_train\u001b[0m\u001b[1;33m)\u001b[0m\u001b[1;33m)\u001b[0m\u001b[1;33m\u001b[0m\u001b[1;33m\u001b[0m\u001b[0m\n\u001b[0m\u001b[0;32m     37\u001b[0m     \u001b[1;32melif\u001b[0m \u001b[0misinstance\u001b[0m\u001b[1;33m(\u001b[0m\u001b[0mXseq\u001b[0m\u001b[1;33m,\u001b[0m \u001b[0mPadded\u001b[0m\u001b[1;33m)\u001b[0m\u001b[1;33m:\u001b[0m\u001b[1;33m\u001b[0m\u001b[1;33m\u001b[0m\u001b[0m\n\u001b[0;32m     38\u001b[0m         \u001b[1;32mreturn\u001b[0m \u001b[0mcast\u001b[0m\u001b[1;33m(\u001b[0m\u001b[0mTuple\u001b[0m\u001b[1;33m[\u001b[0m\u001b[0mSeqT\u001b[0m\u001b[1;33m,\u001b[0m \u001b[0mCallable\u001b[0m\u001b[1;33m]\u001b[0m\u001b[1;33m,\u001b[0m \u001b[0m_padded_forward\u001b[0m\u001b[1;33m(\u001b[0m\u001b[0mmodel\u001b[0m\u001b[1;33m,\u001b[0m \u001b[0mXseq\u001b[0m\u001b[1;33m,\u001b[0m \u001b[0mis_train\u001b[0m\u001b[1;33m)\u001b[0m\u001b[1;33m)\u001b[0m\u001b[1;33m\u001b[0m\u001b[1;33m\u001b[0m\u001b[0m\n",
      "\u001b[1;32mD:\\Anaconda\\Lib\\site-packages\\thinc\\layers\\with_array.py\u001b[0m in \u001b[0;36m_ragged_forward\u001b[1;34m(model, Xr, is_train)\u001b[0m\n\u001b[0;32m     89\u001b[0m ) -> Tuple[Ragged, Callable]:\n\u001b[0;32m     90\u001b[0m     \u001b[0mlayer\u001b[0m\u001b[1;33m:\u001b[0m \u001b[0mModel\u001b[0m\u001b[1;33m[\u001b[0m\u001b[0mArrayXd\u001b[0m\u001b[1;33m,\u001b[0m \u001b[0mArrayXd\u001b[0m\u001b[1;33m]\u001b[0m \u001b[1;33m=\u001b[0m \u001b[0mmodel\u001b[0m\u001b[1;33m.\u001b[0m\u001b[0mlayers\u001b[0m\u001b[1;33m[\u001b[0m\u001b[1;36m0\u001b[0m\u001b[1;33m]\u001b[0m\u001b[1;33m\u001b[0m\u001b[1;33m\u001b[0m\u001b[0m\n\u001b[1;32m---> 91\u001b[1;33m     \u001b[0mY\u001b[0m\u001b[1;33m,\u001b[0m \u001b[0mget_dX\u001b[0m \u001b[1;33m=\u001b[0m \u001b[0mlayer\u001b[0m\u001b[1;33m(\u001b[0m\u001b[0mXr\u001b[0m\u001b[1;33m.\u001b[0m\u001b[0mdataXd\u001b[0m\u001b[1;33m,\u001b[0m \u001b[0mis_train\u001b[0m\u001b[1;33m)\u001b[0m\u001b[1;33m\u001b[0m\u001b[1;33m\u001b[0m\u001b[0m\n\u001b[0m\u001b[0;32m     92\u001b[0m \u001b[1;33m\u001b[0m\u001b[0m\n\u001b[0;32m     93\u001b[0m     \u001b[1;32mdef\u001b[0m \u001b[0mbackprop\u001b[0m\u001b[1;33m(\u001b[0m\u001b[0mdYr\u001b[0m\u001b[1;33m:\u001b[0m \u001b[0mRagged\u001b[0m\u001b[1;33m)\u001b[0m \u001b[1;33m->\u001b[0m \u001b[0mRagged\u001b[0m\u001b[1;33m:\u001b[0m\u001b[1;33m\u001b[0m\u001b[1;33m\u001b[0m\u001b[0m\n",
      "\u001b[1;32mD:\\Anaconda\\Lib\\site-packages\\thinc\\model.py\u001b[0m in \u001b[0;36m__call__\u001b[1;34m(self, X, is_train)\u001b[0m\n\u001b[0;32m    308\u001b[0m         \"\"\"Call the model's `forward` function, returning the output and a\n\u001b[0;32m    309\u001b[0m         callback to compute the gradients via backpropagation.\"\"\"\n\u001b[1;32m--> 310\u001b[1;33m         \u001b[1;32mreturn\u001b[0m \u001b[0mself\u001b[0m\u001b[1;33m.\u001b[0m\u001b[0m_func\u001b[0m\u001b[1;33m(\u001b[0m\u001b[0mself\u001b[0m\u001b[1;33m,\u001b[0m \u001b[0mX\u001b[0m\u001b[1;33m,\u001b[0m \u001b[0mis_train\u001b[0m\u001b[1;33m=\u001b[0m\u001b[0mis_train\u001b[0m\u001b[1;33m)\u001b[0m\u001b[1;33m\u001b[0m\u001b[1;33m\u001b[0m\u001b[0m\n\u001b[0m\u001b[0;32m    311\u001b[0m \u001b[1;33m\u001b[0m\u001b[0m\n\u001b[0;32m    312\u001b[0m     \u001b[1;32mdef\u001b[0m \u001b[0minitialize\u001b[0m\u001b[1;33m(\u001b[0m\u001b[0mself\u001b[0m\u001b[1;33m,\u001b[0m \u001b[0mX\u001b[0m\u001b[1;33m:\u001b[0m \u001b[0mOptional\u001b[0m\u001b[1;33m[\u001b[0m\u001b[0mInT\u001b[0m\u001b[1;33m]\u001b[0m \u001b[1;33m=\u001b[0m \u001b[1;32mNone\u001b[0m\u001b[1;33m,\u001b[0m \u001b[0mY\u001b[0m\u001b[1;33m:\u001b[0m \u001b[0mOptional\u001b[0m\u001b[1;33m[\u001b[0m\u001b[0mOutT\u001b[0m\u001b[1;33m]\u001b[0m \u001b[1;33m=\u001b[0m \u001b[1;32mNone\u001b[0m\u001b[1;33m)\u001b[0m \u001b[1;33m->\u001b[0m \u001b[1;34m\"Model\"\u001b[0m\u001b[1;33m:\u001b[0m\u001b[1;33m\u001b[0m\u001b[1;33m\u001b[0m\u001b[0m\n",
      "\u001b[1;32mD:\\Anaconda\\Lib\\site-packages\\thinc\\layers\\concatenate.py\u001b[0m in \u001b[0;36mforward\u001b[1;34m(model, X, is_train)\u001b[0m\n\u001b[0;32m     63\u001b[0m         \u001b[1;32mreturn\u001b[0m \u001b[0mcast\u001b[0m\u001b[1;33m(\u001b[0m\u001b[0mOutT\u001b[0m\u001b[1;33m,\u001b[0m \u001b[0mdata_r\u001b[0m\u001b[1;33m)\u001b[0m\u001b[1;33m,\u001b[0m \u001b[0mbackprop\u001b[0m\u001b[1;33m\u001b[0m\u001b[1;33m\u001b[0m\u001b[0m\n\u001b[0;32m     64\u001b[0m     \u001b[1;32melse\u001b[0m\u001b[1;33m:\u001b[0m\u001b[1;33m\u001b[0m\u001b[1;33m\u001b[0m\u001b[0m\n\u001b[1;32m---> 65\u001b[1;33m         \u001b[0mdata_a\u001b[0m\u001b[1;33m,\u001b[0m \u001b[0mbackprop\u001b[0m \u001b[1;33m=\u001b[0m \u001b[0m_array_forward\u001b[0m\u001b[1;33m(\u001b[0m\u001b[0mmodel\u001b[0m\u001b[1;33m,\u001b[0m \u001b[0mX\u001b[0m\u001b[1;33m,\u001b[0m \u001b[0mYs\u001b[0m\u001b[1;33m,\u001b[0m \u001b[0mcallbacks\u001b[0m\u001b[1;33m,\u001b[0m \u001b[0mis_train\u001b[0m\u001b[1;33m)\u001b[0m\u001b[1;33m\u001b[0m\u001b[1;33m\u001b[0m\u001b[0m\n\u001b[0m\u001b[0;32m     66\u001b[0m         \u001b[1;32mreturn\u001b[0m \u001b[0mcast\u001b[0m\u001b[1;33m(\u001b[0m\u001b[0mOutT\u001b[0m\u001b[1;33m,\u001b[0m \u001b[0mdata_a\u001b[0m\u001b[1;33m)\u001b[0m\u001b[1;33m,\u001b[0m \u001b[0mbackprop\u001b[0m\u001b[1;33m\u001b[0m\u001b[1;33m\u001b[0m\u001b[0m\n\u001b[0;32m     67\u001b[0m \u001b[1;33m\u001b[0m\u001b[0m\n",
      "\u001b[1;32mD:\\Anaconda\\Lib\\site-packages\\thinc\\layers\\concatenate.py\u001b[0m in \u001b[0;36m_array_forward\u001b[1;34m(model, X, Ys, callbacks, is_train)\u001b[0m\n\u001b[0;32m     71\u001b[0m ) -> Tuple[Array2d, Callable]:\n\u001b[0;32m     72\u001b[0m     \u001b[0mwidths\u001b[0m \u001b[1;33m=\u001b[0m \u001b[1;33m[\u001b[0m\u001b[0mY\u001b[0m\u001b[1;33m.\u001b[0m\u001b[0mshape\u001b[0m\u001b[1;33m[\u001b[0m\u001b[1;36m1\u001b[0m\u001b[1;33m]\u001b[0m \u001b[1;32mfor\u001b[0m \u001b[0mY\u001b[0m \u001b[1;32min\u001b[0m \u001b[0mYs\u001b[0m\u001b[1;33m]\u001b[0m\u001b[1;33m\u001b[0m\u001b[1;33m\u001b[0m\u001b[0m\n\u001b[1;32m---> 73\u001b[1;33m     \u001b[0moutput\u001b[0m \u001b[1;33m=\u001b[0m \u001b[0mmodel\u001b[0m\u001b[1;33m.\u001b[0m\u001b[0mops\u001b[0m\u001b[1;33m.\u001b[0m\u001b[0mxp\u001b[0m\u001b[1;33m.\u001b[0m\u001b[0mhstack\u001b[0m\u001b[1;33m(\u001b[0m\u001b[0mYs\u001b[0m\u001b[1;33m)\u001b[0m\u001b[1;33m\u001b[0m\u001b[1;33m\u001b[0m\u001b[0m\n\u001b[0m\u001b[0;32m     74\u001b[0m \u001b[1;33m\u001b[0m\u001b[0m\n\u001b[0;32m     75\u001b[0m     \u001b[1;32mdef\u001b[0m \u001b[0mbackprop\u001b[0m\u001b[1;33m(\u001b[0m\u001b[0md_output\u001b[0m\u001b[1;33m:\u001b[0m \u001b[0mArray2d\u001b[0m\u001b[1;33m)\u001b[0m \u001b[1;33m->\u001b[0m \u001b[0mInT\u001b[0m\u001b[1;33m:\u001b[0m\u001b[1;33m\u001b[0m\u001b[1;33m\u001b[0m\u001b[0m\n",
      "\u001b[1;32mD:\\Anaconda\\Lib\\site-packages\\numpy\\core\\shape_base.py\u001b[0m in \u001b[0;36mhstack\u001b[1;34m(tup, dtype, casting)\u001b[0m\n\u001b[0;32m    357\u001b[0m         \u001b[1;32mreturn\u001b[0m \u001b[0m_nx\u001b[0m\u001b[1;33m.\u001b[0m\u001b[0mconcatenate\u001b[0m\u001b[1;33m(\u001b[0m\u001b[0marrs\u001b[0m\u001b[1;33m,\u001b[0m \u001b[1;36m0\u001b[0m\u001b[1;33m,\u001b[0m \u001b[0mdtype\u001b[0m\u001b[1;33m=\u001b[0m\u001b[0mdtype\u001b[0m\u001b[1;33m,\u001b[0m \u001b[0mcasting\u001b[0m\u001b[1;33m=\u001b[0m\u001b[0mcasting\u001b[0m\u001b[1;33m)\u001b[0m\u001b[1;33m\u001b[0m\u001b[1;33m\u001b[0m\u001b[0m\n\u001b[0;32m    358\u001b[0m     \u001b[1;32melse\u001b[0m\u001b[1;33m:\u001b[0m\u001b[1;33m\u001b[0m\u001b[1;33m\u001b[0m\u001b[0m\n\u001b[1;32m--> 359\u001b[1;33m         \u001b[1;32mreturn\u001b[0m \u001b[0m_nx\u001b[0m\u001b[1;33m.\u001b[0m\u001b[0mconcatenate\u001b[0m\u001b[1;33m(\u001b[0m\u001b[0marrs\u001b[0m\u001b[1;33m,\u001b[0m \u001b[1;36m1\u001b[0m\u001b[1;33m,\u001b[0m \u001b[0mdtype\u001b[0m\u001b[1;33m=\u001b[0m\u001b[0mdtype\u001b[0m\u001b[1;33m,\u001b[0m \u001b[0mcasting\u001b[0m\u001b[1;33m=\u001b[0m\u001b[0mcasting\u001b[0m\u001b[1;33m)\u001b[0m\u001b[1;33m\u001b[0m\u001b[1;33m\u001b[0m\u001b[0m\n\u001b[0m\u001b[0;32m    360\u001b[0m \u001b[1;33m\u001b[0m\u001b[0m\n\u001b[0;32m    361\u001b[0m \u001b[1;33m\u001b[0m\u001b[0m\n",
      "\u001b[1;31mKeyboardInterrupt\u001b[0m: "
     ]
    }
   ],
   "source": [
    "nlp=spacy.load('en_core_web_sm')\n",
    "\n",
    "pos_ls=[]\n",
    "\n",
    "for text in df[df['class']=='irony']['tweets']:\n",
    "    doc=nlp(text)\n",
    "    for token in doc:\n",
    "        pos_ls.append(token.pos_)\n",
    "\n"
   ]
  },
  {
   "cell_type": "code",
   "execution_count": 9,
   "metadata": {},
   "outputs": [
    {
     "data": {
      "text/plain": [
       "{'ADJ': 25471,\n",
       " 'NOUN': 100339,\n",
       " 'ADP': 30719,\n",
       " 'PROPN': 36479,\n",
       " 'PUNCT': 41036,\n",
       " 'NUM': 15865,\n",
       " 'PRON': 28386,\n",
       " 'VERB': 49739,\n",
       " 'PART': 10394,\n",
       " 'ADV': 18857,\n",
       " 'DET': 26172,\n",
       " 'SCONJ': 4092,\n",
       " 'AUX': 16649,\n",
       " 'CCONJ': 7511,\n",
       " 'SYM': 9719,\n",
       " 'INTJ': 2372,\n",
       " 'SPACE': 5690,\n",
       " 'X': 2920}"
      ]
     },
     "execution_count": 9,
     "metadata": {},
     "output_type": "execute_result"
    }
   ],
   "source": [
    "from collections import Counter\n",
    "\n",
    "dict(Counter(pos_ls))"
   ]
  },
  {
   "cell_type": "code",
   "execution_count": 10,
   "metadata": {},
   "outputs": [
    {
     "data": {
      "application/vnd.plotly.v1+json": {
       "config": {
        "plotlyServerURL": "https://plot.ly"
       },
       "data": [
        {
         "domain": {
          "x": [
           0,
           1
          ],
          "y": [
           0,
           1
          ]
         },
         "hovertemplate": "POS=%{label}<br>Count=%{value}<extra></extra>",
         "labels": [
          "ADJ",
          "NOUN",
          "ADP",
          "PROPN",
          "PUNCT",
          "NUM",
          "PRON",
          "VERB",
          "PART",
          "ADV",
          "DET",
          "SCONJ",
          "AUX",
          "CCONJ",
          "SYM",
          "INTJ",
          "SPACE",
          "X"
         ],
         "legendgroup": "",
         "name": "",
         "showlegend": true,
         "type": "pie",
         "values": [
          25471,
          100339,
          30719,
          36479,
          41036,
          15865,
          28386,
          49739,
          10394,
          18857,
          26172,
          4092,
          16649,
          7511,
          9719,
          2372,
          5690,
          2920
         ]
        }
       ],
       "layout": {
        "legend": {
         "font": {
          "size": 10
         },
         "orientation": "v",
         "tracegroupgap": 0,
         "x": 0.85,
         "xanchor": "left",
         "y": 0.5
        },
        "margin": {
         "b": 10,
         "l": 10,
         "r": 10,
         "t": 40
        },
        "template": {
         "data": {
          "bar": [
           {
            "error_x": {
             "color": "#2a3f5f"
            },
            "error_y": {
             "color": "#2a3f5f"
            },
            "marker": {
             "line": {
              "color": "#E5ECF6",
              "width": 0.5
             },
             "pattern": {
              "fillmode": "overlay",
              "size": 10,
              "solidity": 0.2
             }
            },
            "type": "bar"
           }
          ],
          "barpolar": [
           {
            "marker": {
             "line": {
              "color": "#E5ECF6",
              "width": 0.5
             },
             "pattern": {
              "fillmode": "overlay",
              "size": 10,
              "solidity": 0.2
             }
            },
            "type": "barpolar"
           }
          ],
          "carpet": [
           {
            "aaxis": {
             "endlinecolor": "#2a3f5f",
             "gridcolor": "white",
             "linecolor": "white",
             "minorgridcolor": "white",
             "startlinecolor": "#2a3f5f"
            },
            "baxis": {
             "endlinecolor": "#2a3f5f",
             "gridcolor": "white",
             "linecolor": "white",
             "minorgridcolor": "white",
             "startlinecolor": "#2a3f5f"
            },
            "type": "carpet"
           }
          ],
          "choropleth": [
           {
            "colorbar": {
             "outlinewidth": 0,
             "ticks": ""
            },
            "type": "choropleth"
           }
          ],
          "contour": [
           {
            "colorbar": {
             "outlinewidth": 0,
             "ticks": ""
            },
            "colorscale": [
             [
              0,
              "#0d0887"
             ],
             [
              0.1111111111111111,
              "#46039f"
             ],
             [
              0.2222222222222222,
              "#7201a8"
             ],
             [
              0.3333333333333333,
              "#9c179e"
             ],
             [
              0.4444444444444444,
              "#bd3786"
             ],
             [
              0.5555555555555556,
              "#d8576b"
             ],
             [
              0.6666666666666666,
              "#ed7953"
             ],
             [
              0.7777777777777778,
              "#fb9f3a"
             ],
             [
              0.8888888888888888,
              "#fdca26"
             ],
             [
              1,
              "#f0f921"
             ]
            ],
            "type": "contour"
           }
          ],
          "contourcarpet": [
           {
            "colorbar": {
             "outlinewidth": 0,
             "ticks": ""
            },
            "type": "contourcarpet"
           }
          ],
          "heatmap": [
           {
            "colorbar": {
             "outlinewidth": 0,
             "ticks": ""
            },
            "colorscale": [
             [
              0,
              "#0d0887"
             ],
             [
              0.1111111111111111,
              "#46039f"
             ],
             [
              0.2222222222222222,
              "#7201a8"
             ],
             [
              0.3333333333333333,
              "#9c179e"
             ],
             [
              0.4444444444444444,
              "#bd3786"
             ],
             [
              0.5555555555555556,
              "#d8576b"
             ],
             [
              0.6666666666666666,
              "#ed7953"
             ],
             [
              0.7777777777777778,
              "#fb9f3a"
             ],
             [
              0.8888888888888888,
              "#fdca26"
             ],
             [
              1,
              "#f0f921"
             ]
            ],
            "type": "heatmap"
           }
          ],
          "heatmapgl": [
           {
            "colorbar": {
             "outlinewidth": 0,
             "ticks": ""
            },
            "colorscale": [
             [
              0,
              "#0d0887"
             ],
             [
              0.1111111111111111,
              "#46039f"
             ],
             [
              0.2222222222222222,
              "#7201a8"
             ],
             [
              0.3333333333333333,
              "#9c179e"
             ],
             [
              0.4444444444444444,
              "#bd3786"
             ],
             [
              0.5555555555555556,
              "#d8576b"
             ],
             [
              0.6666666666666666,
              "#ed7953"
             ],
             [
              0.7777777777777778,
              "#fb9f3a"
             ],
             [
              0.8888888888888888,
              "#fdca26"
             ],
             [
              1,
              "#f0f921"
             ]
            ],
            "type": "heatmapgl"
           }
          ],
          "histogram": [
           {
            "marker": {
             "pattern": {
              "fillmode": "overlay",
              "size": 10,
              "solidity": 0.2
             }
            },
            "type": "histogram"
           }
          ],
          "histogram2d": [
           {
            "colorbar": {
             "outlinewidth": 0,
             "ticks": ""
            },
            "colorscale": [
             [
              0,
              "#0d0887"
             ],
             [
              0.1111111111111111,
              "#46039f"
             ],
             [
              0.2222222222222222,
              "#7201a8"
             ],
             [
              0.3333333333333333,
              "#9c179e"
             ],
             [
              0.4444444444444444,
              "#bd3786"
             ],
             [
              0.5555555555555556,
              "#d8576b"
             ],
             [
              0.6666666666666666,
              "#ed7953"
             ],
             [
              0.7777777777777778,
              "#fb9f3a"
             ],
             [
              0.8888888888888888,
              "#fdca26"
             ],
             [
              1,
              "#f0f921"
             ]
            ],
            "type": "histogram2d"
           }
          ],
          "histogram2dcontour": [
           {
            "colorbar": {
             "outlinewidth": 0,
             "ticks": ""
            },
            "colorscale": [
             [
              0,
              "#0d0887"
             ],
             [
              0.1111111111111111,
              "#46039f"
             ],
             [
              0.2222222222222222,
              "#7201a8"
             ],
             [
              0.3333333333333333,
              "#9c179e"
             ],
             [
              0.4444444444444444,
              "#bd3786"
             ],
             [
              0.5555555555555556,
              "#d8576b"
             ],
             [
              0.6666666666666666,
              "#ed7953"
             ],
             [
              0.7777777777777778,
              "#fb9f3a"
             ],
             [
              0.8888888888888888,
              "#fdca26"
             ],
             [
              1,
              "#f0f921"
             ]
            ],
            "type": "histogram2dcontour"
           }
          ],
          "mesh3d": [
           {
            "colorbar": {
             "outlinewidth": 0,
             "ticks": ""
            },
            "type": "mesh3d"
           }
          ],
          "parcoords": [
           {
            "line": {
             "colorbar": {
              "outlinewidth": 0,
              "ticks": ""
             }
            },
            "type": "parcoords"
           }
          ],
          "pie": [
           {
            "automargin": true,
            "type": "pie"
           }
          ],
          "scatter": [
           {
            "fillpattern": {
             "fillmode": "overlay",
             "size": 10,
             "solidity": 0.2
            },
            "type": "scatter"
           }
          ],
          "scatter3d": [
           {
            "line": {
             "colorbar": {
              "outlinewidth": 0,
              "ticks": ""
             }
            },
            "marker": {
             "colorbar": {
              "outlinewidth": 0,
              "ticks": ""
             }
            },
            "type": "scatter3d"
           }
          ],
          "scattercarpet": [
           {
            "marker": {
             "colorbar": {
              "outlinewidth": 0,
              "ticks": ""
             }
            },
            "type": "scattercarpet"
           }
          ],
          "scattergeo": [
           {
            "marker": {
             "colorbar": {
              "outlinewidth": 0,
              "ticks": ""
             }
            },
            "type": "scattergeo"
           }
          ],
          "scattergl": [
           {
            "marker": {
             "colorbar": {
              "outlinewidth": 0,
              "ticks": ""
             }
            },
            "type": "scattergl"
           }
          ],
          "scattermapbox": [
           {
            "marker": {
             "colorbar": {
              "outlinewidth": 0,
              "ticks": ""
             }
            },
            "type": "scattermapbox"
           }
          ],
          "scatterpolar": [
           {
            "marker": {
             "colorbar": {
              "outlinewidth": 0,
              "ticks": ""
             }
            },
            "type": "scatterpolar"
           }
          ],
          "scatterpolargl": [
           {
            "marker": {
             "colorbar": {
              "outlinewidth": 0,
              "ticks": ""
             }
            },
            "type": "scatterpolargl"
           }
          ],
          "scatterternary": [
           {
            "marker": {
             "colorbar": {
              "outlinewidth": 0,
              "ticks": ""
             }
            },
            "type": "scatterternary"
           }
          ],
          "surface": [
           {
            "colorbar": {
             "outlinewidth": 0,
             "ticks": ""
            },
            "colorscale": [
             [
              0,
              "#0d0887"
             ],
             [
              0.1111111111111111,
              "#46039f"
             ],
             [
              0.2222222222222222,
              "#7201a8"
             ],
             [
              0.3333333333333333,
              "#9c179e"
             ],
             [
              0.4444444444444444,
              "#bd3786"
             ],
             [
              0.5555555555555556,
              "#d8576b"
             ],
             [
              0.6666666666666666,
              "#ed7953"
             ],
             [
              0.7777777777777778,
              "#fb9f3a"
             ],
             [
              0.8888888888888888,
              "#fdca26"
             ],
             [
              1,
              "#f0f921"
             ]
            ],
            "type": "surface"
           }
          ],
          "table": [
           {
            "cells": {
             "fill": {
              "color": "#EBF0F8"
             },
             "line": {
              "color": "white"
             }
            },
            "header": {
             "fill": {
              "color": "#C8D4E3"
             },
             "line": {
              "color": "white"
             }
            },
            "type": "table"
           }
          ]
         },
         "layout": {
          "annotationdefaults": {
           "arrowcolor": "#2a3f5f",
           "arrowhead": 0,
           "arrowwidth": 1
          },
          "autotypenumbers": "strict",
          "coloraxis": {
           "colorbar": {
            "outlinewidth": 0,
            "ticks": ""
           }
          },
          "colorscale": {
           "diverging": [
            [
             0,
             "#8e0152"
            ],
            [
             0.1,
             "#c51b7d"
            ],
            [
             0.2,
             "#de77ae"
            ],
            [
             0.3,
             "#f1b6da"
            ],
            [
             0.4,
             "#fde0ef"
            ],
            [
             0.5,
             "#f7f7f7"
            ],
            [
             0.6,
             "#e6f5d0"
            ],
            [
             0.7,
             "#b8e186"
            ],
            [
             0.8,
             "#7fbc41"
            ],
            [
             0.9,
             "#4d9221"
            ],
            [
             1,
             "#276419"
            ]
           ],
           "sequential": [
            [
             0,
             "#0d0887"
            ],
            [
             0.1111111111111111,
             "#46039f"
            ],
            [
             0.2222222222222222,
             "#7201a8"
            ],
            [
             0.3333333333333333,
             "#9c179e"
            ],
            [
             0.4444444444444444,
             "#bd3786"
            ],
            [
             0.5555555555555556,
             "#d8576b"
            ],
            [
             0.6666666666666666,
             "#ed7953"
            ],
            [
             0.7777777777777778,
             "#fb9f3a"
            ],
            [
             0.8888888888888888,
             "#fdca26"
            ],
            [
             1,
             "#f0f921"
            ]
           ],
           "sequentialminus": [
            [
             0,
             "#0d0887"
            ],
            [
             0.1111111111111111,
             "#46039f"
            ],
            [
             0.2222222222222222,
             "#7201a8"
            ],
            [
             0.3333333333333333,
             "#9c179e"
            ],
            [
             0.4444444444444444,
             "#bd3786"
            ],
            [
             0.5555555555555556,
             "#d8576b"
            ],
            [
             0.6666666666666666,
             "#ed7953"
            ],
            [
             0.7777777777777778,
             "#fb9f3a"
            ],
            [
             0.8888888888888888,
             "#fdca26"
            ],
            [
             1,
             "#f0f921"
            ]
           ]
          },
          "colorway": [
           "#636efa",
           "#EF553B",
           "#00cc96",
           "#ab63fa",
           "#FFA15A",
           "#19d3f3",
           "#FF6692",
           "#B6E880",
           "#FF97FF",
           "#FECB52"
          ],
          "font": {
           "color": "#2a3f5f"
          },
          "geo": {
           "bgcolor": "white",
           "lakecolor": "white",
           "landcolor": "#E5ECF6",
           "showlakes": true,
           "showland": true,
           "subunitcolor": "white"
          },
          "hoverlabel": {
           "align": "left"
          },
          "hovermode": "closest",
          "mapbox": {
           "style": "light"
          },
          "paper_bgcolor": "white",
          "plot_bgcolor": "#E5ECF6",
          "polar": {
           "angularaxis": {
            "gridcolor": "white",
            "linecolor": "white",
            "ticks": ""
           },
           "bgcolor": "#E5ECF6",
           "radialaxis": {
            "gridcolor": "white",
            "linecolor": "white",
            "ticks": ""
           }
          },
          "scene": {
           "xaxis": {
            "backgroundcolor": "#E5ECF6",
            "gridcolor": "white",
            "gridwidth": 2,
            "linecolor": "white",
            "showbackground": true,
            "ticks": "",
            "zerolinecolor": "white"
           },
           "yaxis": {
            "backgroundcolor": "#E5ECF6",
            "gridcolor": "white",
            "gridwidth": 2,
            "linecolor": "white",
            "showbackground": true,
            "ticks": "",
            "zerolinecolor": "white"
           },
           "zaxis": {
            "backgroundcolor": "#E5ECF6",
            "gridcolor": "white",
            "gridwidth": 2,
            "linecolor": "white",
            "showbackground": true,
            "ticks": "",
            "zerolinecolor": "white"
           }
          },
          "shapedefaults": {
           "line": {
            "color": "#2a3f5f"
           }
          },
          "ternary": {
           "aaxis": {
            "gridcolor": "white",
            "linecolor": "white",
            "ticks": ""
           },
           "baxis": {
            "gridcolor": "white",
            "linecolor": "white",
            "ticks": ""
           },
           "bgcolor": "#E5ECF6",
           "caxis": {
            "gridcolor": "white",
            "linecolor": "white",
            "ticks": ""
           }
          },
          "title": {
           "x": 0.05
          },
          "xaxis": {
           "automargin": true,
           "gridcolor": "white",
           "linecolor": "white",
           "ticks": "",
           "title": {
            "standoff": 15
           },
           "zerolinecolor": "white",
           "zerolinewidth": 2
          },
          "yaxis": {
           "automargin": true,
           "gridcolor": "white",
           "linecolor": "white",
           "ticks": "",
           "title": {
            "standoff": 15
           },
           "zerolinecolor": "white",
           "zerolinewidth": 2
          }
         }
        },
        "title": {
         "text": "Part-of-Speech Distribution in Ironic Comments",
         "x": 0.5,
         "xanchor": "center"
        }
       }
      }
     },
     "metadata": {},
     "output_type": "display_data"
    }
   ],
   "source": [
    "import matplotlib.pyplot as plt\n",
    "import plotly.express as px\n",
    "\n",
    "\n",
    "\n",
    "pos_count=pd.DataFrame(list(dict(Counter(pos_ls)).items()),columns=['POS','Count'])\n",
    "\n",
    "\n",
    "# 画饼图\n",
    "fig = px.pie(\n",
    "    pos_count, names='POS', values='Count', \n",
    "    title='Part-of-Speech Distribution in Ironic Comments'\n",
    ")\n",
    "\n",
    "# 紧凑布局设置\n",
    "fig.update_layout(\n",
    "    title={'x': 0.5, 'xanchor': 'center'},  # 标题居中\n",
    "    margin=dict(t=40, b=10, l=10, r=10),    # 紧缩边距\n",
    "    legend=dict(\n",
    "        x=0.85, y=0.5,\n",
    "        xanchor='left',\n",
    "        orientation='v',\n",
    "        font=dict(size=10)\n",
    "    )\n",
    ")\n",
    "\n",
    "fig.show()\n",
    "\n",
    "\n",
    "\n"
   ]
  },
  {
   "cell_type": "code",
   "execution_count": 26,
   "metadata": {},
   "outputs": [],
   "source": [
    "df['Sentiment'] = df['Sentiment'].apply(lambda x: x.lower() if type(x)==str else 0)\n",
    "\n"
   ]
  },
  {
   "cell_type": "code",
   "execution_count": 28,
   "metadata": {},
   "outputs": [],
   "source": [
    "df=df[~df['Sentiment'].isin([0,'0'])]"
   ]
  },
  {
   "cell_type": "code",
   "execution_count": 34,
   "metadata": {},
   "outputs": [
    {
     "name": "stderr",
     "output_type": "stream",
     "text": [
      "D:\\Anaconda\\Lib\\site-packages\\sklearn\\preprocessing\\_label.py:110: DataConversionWarning: A column-vector y was passed when a 1d array was expected. Please change the shape of y to (n_samples, ), for example using ravel().\n",
      "  y = column_or_1d(y, warn=True)\n"
     ]
    }
   ],
   "source": [
    "from sklearn.preprocessing import LabelEncoder\n",
    "\n",
    "df['Sentiment']=LabelEncoder().fit_transform(df[['Sentiment']])"
   ]
  },
  {
   "cell_type": "code",
   "execution_count": 84,
   "metadata": {},
   "outputs": [],
   "source": [
    "class PytorchDataset(Dataset):\n",
    "\n",
    "    def __init__(self,df):\n",
    "        super().__init__()\n",
    "        self.df=df\n",
    "        self.word_ids=np.array([word_ids for word_ids in df['input_word_ids']]).astype(int)\n",
    "        self.attention_weights=np.array([attention for attention in df['attention_mask']]).astype(int)\n",
    "        self.token_inputs=np.array([token for token in df['token_type_ids']]).astype(int)\n",
    "\n",
    "        try:\n",
    "            self.y=df['Sentiment'].values\n",
    "        except:\n",
    "            self.y=np.zeros(len(df))\n",
    "\n",
    "\n",
    "    def __len__(self):\n",
    "        return len(self.df)\n",
    "\n",
    "    def __getitem__(self,i):\n",
    "        return torch.tensor(self.word_ids[i],dtype=torch.long),torch.tensor(self.attention_weights[i],dtype=torch.long),torch.tensor(self.token_inputs[i],dtype=torch.long),torch.tensor(self.y[i],dtype=torch.long)\n",
    "\n",
    "\n"
   ]
  },
  {
   "cell_type": "code",
   "execution_count": 38,
   "metadata": {},
   "outputs": [],
   "source": [
    "import nltk\n",
    "\n",
    "#数据清洗的过程\n",
    "def clean_text_simple(text):\n",
    "    stopwords=nltk.corpus.stopwords.words('english')\n",
    "    if not isinstance(text, str):\n",
    "        return \"\"\n",
    "\n",
    "    # 只保留 字母、数字、空格、基本标点（.,!?）\n",
    "    cleaned = re.sub(r'[^\\w\\s.,!?]', ' ', text)\n",
    "    cleaned = re.sub(r'\\s+', ' ', cleaned)\n",
    "\n",
    "    # 剔除超长乱码（假设>15个连续字母/数字是乱码）\n",
    "    cleaned = ' '.join(\n",
    "        word for word in cleaned.split()\n",
    "        if len(word) <= 15 and re.match(r'^[a-zA-Z0-9.,!?]+$', word) and word not in stopwords\n",
    "    )\n",
    "\n",
    "    return cleaned.strip()\n",
    "\n",
    "\n",
    "df['Description']=df['Description'].apply(lambda x:clean_text_simple(x))"
   ]
  },
  {
   "cell_type": "markdown",
   "metadata": {},
   "source": [
    "**数据的降采样**"
   ]
  },
  {
   "cell_type": "code",
   "execution_count": 10,
   "metadata": {},
   "outputs": [],
   "source": [
    "\n",
    "stop_words=stopwords.words('english')\n",
    "stemmer=WordNetLemmatizer()\n",
    "\n",
    "def text_preprocessing(text):\n",
    "    text=re.sub(r'[^\\S\\n]', ' ', text) #清除连续的空白\n",
    "    text=re.sub(r\"[^\\w\\s]\", \"\", text)\n",
    "    text=re.sub(r'[0-9]','',text)\n",
    "    text=re.sub(r\"https?://[^\\s]+\",'',text)  #清除网站\n",
    "    #清除标点符号\n",
    "    translator=str.maketrans('','',string.punctuation+\"@#$%^&*()_+!(){}[]|\\/<>~`\")\n",
    "    text=text.translate(translator)\n",
    "    text=word_tokenize(text)\n",
    "    text=[word for word in text if word not in stop_words]\n",
    "    text=[stemmer.lemmatize(word) for word in text]\n",
    "    text=' '.join([word for word in text])\n",
    "\n",
    "    return text\n",
    "\n",
    "\n",
    "\n",
    "\n",
    "\n",
    "\n"
   ]
  },
  {
   "cell_type": "code",
   "execution_count": 13,
   "metadata": {},
   "outputs": [],
   "source": [
    "# from collections import Counter\n",
    "\n",
    "\n",
    "# # global pos_tags\n",
    "# # pos_tags=[]\n",
    "\n",
    "\n",
    "\n",
    "# # def pos_count(text):\n",
    "# #     doc=nlp(text)\n",
    "    \n",
    "# #     for i in doc:\n",
    "# #         pos_tags.append(i.pos_)\n",
    "\n",
    "\n",
    "\n",
    "# # #需要进行剔除  空格，符号，数字等\n",
    "# # dict(Counter(pos_tags))\n",
    "\n",
    "\n",
    "\n",
    "# #计算长度\n",
    "# df['text len']=df['headline'].apply(lambda x:len(x.split()))\n",
    "\n",
    "\n",
    "\n",
    "\n",
    "# #降采样\n",
    "\n",
    "# df_sarcasm=df[df['is_sarcastic']==1]\n",
    "# df_no_sarcasm=df[df['is_sarcastic']==0]\n",
    "\n",
    "# sarcasm_len_ratio=df_sarcasm['text len'].value_counts(normalize=True).sort_index()\n",
    "# df_no_sarcasm_len_ratio=df_no_sarcasm['text len'].value_counts(normalize=True).sort_index()\n",
    "\n",
    "# def under_sample(df,ratio,target_size):\n",
    "#     weights=df['text len'].map(ratio)\n",
    "#     sampled_data=df.sample(n=target_size,weights=weights,random_state=42)\n",
    "\n",
    "#     return sampled_data\n",
    "\n",
    "\n",
    "# sarcasm_data=under_sample(df_sarcasm,sarcasm_len_ratio,12000)\n",
    "# unsarcasm_data=under_sample(df_no_sarcasm,df_no_sarcasm_len_ratio,120000)\n",
    "\n",
    "\n",
    "# df_sampled=pd.concat(\n",
    "#     [sarcasm_data,unsarcasm_data],axis=0\n",
    "\n",
    "# )\n",
    "\n",
    "\n",
    "\n"
   ]
  },
  {
   "cell_type": "code",
   "execution_count": 11,
   "metadata": {},
   "outputs": [],
   "source": [
    "df['clean_text']=df['tweets'].apply(lambda x:text_preprocessing(x))"
   ]
  },
  {
   "cell_type": "code",
   "execution_count": 12,
   "metadata": {},
   "outputs": [],
   "source": [
    "df=df.reset_index(drop=True)"
   ]
  },
  {
   "cell_type": "code",
   "execution_count": null,
   "metadata": {},
   "outputs": [],
   "source": [
    "# from transformers import AutoModelForSequenceClassification\n",
    "# from transformers import AutoTokenizer\n",
    "\n",
    "\n",
    "\n",
    "# # tokenizer = AutoTokenizer.from_pretrained('english-sarcasm-detector')\n",
    "# # model = AutoModelForSequenceClassification.from_pretrained('english-sarcasm-detector')\n",
    "# # MODEL_PATH = r\"D:\\vscode\\sarcasm model\"\n",
    "\n",
    "# # tokenizer = AutoTokenizer.from_pretrained('bert-base-uncased')\n",
    "# # bert_model = AutoModelForSequenceClassification.from_pretrained('bert-base-uncased')\n",
    "\n",
    "# bert_config=BertConfig.from_json_file(r\"D:\\vscode\\bert sarcasm\\config.json\")\n",
    "# bert_model=BertModel(bert_config)\n",
    "\n",
    "# tokenizer=BertTokenizer.from_pretrained(r\"jkhan447/sarcasm-detection-Bert-base-uncased\")"
   ]
  },
  {
   "cell_type": "code",
   "execution_count": 70,
   "metadata": {},
   "outputs": [
    {
     "name": "stdout",
     "output_type": "stream",
     "text": [
      "WARNING:tensorflow:From D:\\Anaconda\\Lib\\site-packages\\tf_keras\\src\\losses.py:2976: The name tf.losses.sparse_softmax_cross_entropy is deprecated. Please use tf.compat.v1.losses.sparse_softmax_cross_entropy instead.\n",
      "\n",
      "WARNING:tensorflow:From D:\\Anaconda\\Lib\\site-packages\\tf_keras\\src\\backend.py:873: The name tf.get_default_graph is deprecated. Please use tf.compat.v1.get_default_graph instead.\n",
      "\n"
     ]
    },
    {
     "name": "stderr",
     "output_type": "stream",
     "text": [
      "Some weights of the PyTorch model were not used when initializing the TF 2.0 model TFBertModel: ['cls.predictions.transform.dense.bias', 'cls.predictions.transform.LayerNorm.bias', 'cls.seq_relationship.bias', 'cls.predictions.transform.dense.weight', 'cls.seq_relationship.weight', 'cls.predictions.transform.LayerNorm.weight', 'cls.predictions.bias']\n",
      "- This IS expected if you are initializing TFBertModel from a PyTorch model trained on another task or with another architecture (e.g. initializing a TFBertForSequenceClassification model from a BertForPreTraining model).\n",
      "- This IS NOT expected if you are initializing TFBertModel from a PyTorch model that you expect to be exactly identical (e.g. initializing a TFBertForSequenceClassification model from a BertForSequenceClassification model).\n",
      "All the weights of TFBertModel were initialized from the PyTorch model.\n",
      "If your task is similar to the task the model of the checkpoint was trained on, you can already use TFBertModel for predictions without further training.\n"
     ]
    }
   ],
   "source": [
    "from transformers import TFAutoModel\n",
    "\n",
    "\n",
    "\n",
    "bert_model = TFAutoModel.from_pretrained('bert-base-uncased')\n",
    "\n",
    "\n"
   ]
  },
  {
   "cell_type": "code",
   "execution_count": 41,
   "metadata": {},
   "outputs": [],
   "source": [
    "\n",
    "\n",
    "\n",
    "encoded_inputs = tokenizer.batch_encode_plus(\n",
    "    df['Description'].tolist(), \n",
    "    padding=True, \n",
    "    truncation=True, \n",
    "    return_tensors='pt'\n",
    ")\n",
    "# df_sampled['input_word_ids'] = encoded_inputs['input_ids']\n",
    "# df_sampled['attention_mask'] = encoded_inputs['attention_mask']\n",
    "# df_sampled['token_type_ids'] = encoded_inputs['token_type_ids']"
   ]
  },
  {
   "cell_type": "code",
   "execution_count": 42,
   "metadata": {},
   "outputs": [],
   "source": [
    "df['input_word_ids']=encoded_inputs['input_ids'].tolist()"
   ]
  },
  {
   "cell_type": "code",
   "execution_count": 43,
   "metadata": {},
   "outputs": [],
   "source": [
    "df['attention_mask'] = encoded_inputs['attention_mask'].tolist()\n",
    "df['token_type_ids'] = encoded_inputs['token_type_ids'].tolist()"
   ]
  },
  {
   "cell_type": "code",
   "execution_count": 58,
   "metadata": {},
   "outputs": [],
   "source": [
    "from pytorchtools import EarlyStopping\n",
    "from sklearn.metrics import precision_score, recall_score, f1_score\n",
    "\n",
    "def fit(model, train_dataset, val_dataset, batch_size, warmup_prop=0, lr=0.00005, epochs=5):\n",
    "    device = torch.device(\"cuda\" if torch.cuda.is_available() else \"cpu\")\n",
    "    model.to(device)\n",
    "\n",
    "    train_loader = DataLoader(train_dataset, batch_size=batch_size, shuffle=True)\n",
    "    val_loader = DataLoader(val_dataset, batch_size=batch_size, shuffle=False)\n",
    "\n",
    "    optimizer = torch.optim.AdamW(model.parameters(), lr=lr)\n",
    "    num_warmup_steps = int(warmup_prop * epochs * len(train_loader))\n",
    "    num_training_steps = epochs * len(train_loader)  \n",
    "    schedular = transformers.get_linear_schedule_with_warmup(optimizer, 10, num_training_steps)\n",
    "    early_stopping=EarlyStopping(patience=5)\n",
    "    loss_fct = nn.CrossEntropyLoss().to(device)\n",
    "   \n",
    "\n",
    "    for epoch in range(epochs):\n",
    "        model.train()\n",
    "        start_time = time.time()\n",
    "        avg_loss = 0\n",
    "        train_correct = 0\n",
    "\n",
    "        for step, (x, x_attention, token, y_batch) in tqdm(enumerate(train_loader), total=len(train_loader)):\n",
    "            x, x_attention, token, y_batch = x.to(device), x_attention.to(device), token.to(device), y_batch.to(device)\n",
    "\n",
    "            optimizer.zero_grad()\n",
    "            y_pred = model(x, token, x_attention)\n",
    "            loss = loss_fct(y_pred, y_batch)\n",
    "            loss.backward()\n",
    "\n",
    "            optimizer.step()\n",
    "            schedular.step()\n",
    "            optimizer.zero_grad(set_to_none=True)  # 释放显存\n",
    "\n",
    "            pred = y_pred.argmax(dim=1, keepdim=True)\n",
    "            train_correct += pred.eq(y_batch.view_as(pred)).sum().item()\n",
    "            lr=schedular.get_lr()[0]\n",
    "            \n",
    "            avg_loss += loss.item() / len(train_loader)\n",
    "            torch.cuda.empty_cache()  # 强制清理显存\n",
    "\n",
    "        schedular.step()\n",
    "\n",
    "        model.eval()\n",
    "        avg_val_loss = 0\n",
    "        test_correct = 0\n",
    "        all_preds = []\n",
    "        all_labels = []\n",
    "\n",
    "        with torch.no_grad():\n",
    "            for x, x_attention, token, y_batch in val_loader:\n",
    "                x, x_attention, token, y_batch = x.to(device), x_attention.to(device), token.to(device), y_batch.to(device)\n",
    "                y_pred = model(x, token, x_attention)\n",
    "\n",
    "                loss = loss_fct(y_pred, y_batch)\n",
    "                avg_val_loss += loss.item() / len(val_loader)\n",
    "\n",
    "                preds = y_pred.argmax(dim=1)\n",
    "                all_preds.extend(preds.cpu().numpy())\n",
    "                all_labels.extend(y_batch.cpu().numpy())\n",
    "\n",
    "                test_correct += preds.eq(y_batch).sum().item()\n",
    "\n",
    "        val_auc = test_correct / len(val_loader.dataset)\n",
    "        precision = precision_score(all_labels, all_preds, average='macro')\n",
    "        recall = recall_score(all_labels, all_preds, average='macro')\n",
    "        f1 = f1_score(all_labels, all_preds, average='macro')\n",
    "\n",
    "        early_stopping(val_auc, model)\n",
    "\n",
    "        if early_stopping.early_stop:\n",
    "            print('Early Stopping')\n",
    "            break\n",
    "\n",
    "        print(f'Epoch {epoch+1}/{epochs} - Loss: {avg_loss:.4f} - Val Loss: {avg_val_loss:.4f} '\n",
    "              f'- Train Acc: {train_correct/len(train_loader.dataset):.4f} - Val Acc: {val_auc:.4f} '\n",
    "              f'- Precision: {precision:.4f} - Recall: {recall:.4f} - F1: {f1:.4f} - lr: {lr:.6f}')\n"
   ]
  },
  {
   "cell_type": "code",
   "execution_count": 53,
   "metadata": {},
   "outputs": [],
   "source": [
    "class BIGRU_CNN(nn.Module):\n",
    "    def __init__(self,bert_model,num_classes, vocab_size,embedded_dim,hidden_size, kernel_sizes=[4,5,6], num_channels=[128,128,128]):\n",
    "        super(BIGRU_CNN, self).__init__()\n",
    "        self.bert_model=bert_model\n",
    "        self.vocab_size=vocab_size\n",
    "        self.embedded_dim=embedded_dim\n",
    "        self.hidden_size = hidden_size\n",
    "        self.num_classes = num_classes\n",
    "        self.embedding=nn.Embedding(self.vocab_size,self.embedded_dim)\n",
    "\n",
    "        self.BIGRU1 = nn.GRU(input_size=self.embedded_dim, hidden_size=self.hidden_size[0], num_layers=2, bidirectional=True, batch_first=True)\n",
    "        # self.BIGRU2 = nn.GRU(input_size=self.hidden_size[0] * 2, hidden_size=self.hidden_size[1], num_layers=1, bidirectional=True, batch_first=False)\n",
    "\n",
    "        # 卷积层\n",
    "        self.cnn_layers = nn.ModuleList()  # 创建多个一维卷积层\n",
    "        for c, k in zip(num_channels, kernel_sizes):\n",
    "            cnn = nn.Sequential(\n",
    "                nn.Conv1d(in_channels=self.hidden_size[0]*2, out_channels=c, kernel_size=k),\n",
    "                nn.BatchNorm1d(c),\n",
    "                nn.ReLU(),\n",
    "                nn.Dropout(0.5)\n",
    "            )\n",
    "            # cnn=nn.Sequential(\n",
    "            #         # 改成2维度，输入通道就是1了，输出通道人定，而卷积核宽度一旦和词嵌入矩阵的宽度一直，那么卷积核只会上下滑动，因此等价于一维卷积，串联的时候也一样\n",
    "            #         nn.Conv2d(in_channels=1, out_channels=c, kernel_size=(k,self.hidden_size[-1])), nn.BatchNorm2d(c),\n",
    "            #         nn.Sigmoid(), nn.Dropout(0.5),\n",
    "            #     )\n",
    "            self.cnn_layers.append(cnn)\n",
    "        self.pool = nn.AdaptiveMaxPool1d(1) #按照max len来张开\n",
    "\n",
    "        # 输出层\n",
    "        self.fc = nn.Sequential(\n",
    "            nn.Dropout(p=0.5),  #防止过拟合\n",
    "            nn.Linear(sum(num_channels), num_classes),  # 使用 nn.Linear\n",
    "            nn.ReLU(),  # 使用 nn.ReLU 作为激活函数\n",
    "            nn.Softmax(dim=1)\n",
    "        )\n",
    "\n",
    "    def forward(self, input_ids,tokens,attention_mask):\n",
    "        \n",
    "        \n",
    "        \n",
    "        # last_hidden_states=self.bert_model(input_ids,attention_mask=attention_mask,token_type_ids=tokens).last_hidden_state\n",
    "        embedded_inputs=self.embedding(input_ids)\n",
    "        \n",
    "        \n",
    "        \n",
    "        # 传入 BIGRU 计算输出\n",
    "        outputs, _ = self.BIGRU1(embedded_inputs)\n",
    "        # outputs, _ = self.BIGRU2(outputs)\n",
    "\n",
    "        # CNN 处理\n",
    "        y = []\n",
    "        cnn_input = outputs.permute(0, 2, 1)  # (batch_size, hidden_dim, seq_len)\n",
    "\n",
    "        # 遍历各个卷积层\n",
    "        for layer in self.cnn_layers:\n",
    "            x = layer(cnn_input)\n",
    "            x = self.pool(x)\n",
    "            x = x.view(x.size(0), x.size(1), -1)\n",
    "            y.append(x)\n",
    "\n",
    "        # 将所有卷积层输出的结果拼接在一起\n",
    "        y = torch.cat(y, dim=1)\n",
    "        y = y.view(y.size(0), -1)\n",
    "        \n",
    "        # 通过全连接层得到最终输出\n",
    "        out = self.fc(y)\n",
    "        return out\n"
   ]
  },
  {
   "cell_type": "code",
   "execution_count": 71,
   "metadata": {},
   "outputs": [],
   "source": [
    "from sklearn.model_selection import train_test_split\n",
    "\n",
    "\n",
    "\n",
    "df_train,df_test=train_test_split(df,shuffle=True,test_size=0.1,random_state=42,stratify=df['Sentiment'])\n",
    "df_train,df_val=train_test_split(df_train,shuffle=True,random_state=42,test_size=0.1,stratify=df_train['Sentiment'])\n"
   ]
  },
  {
   "cell_type": "code",
   "execution_count": 85,
   "metadata": {},
   "outputs": [],
   "source": [
    "train_dataset=PytorchDataset(df_train)\n",
    "val_dataset=PytorchDataset(df_val)\n",
    "test_dataset=PytorchDataset(df_test)\n"
   ]
  },
  {
   "cell_type": "code",
   "execution_count": 86,
   "metadata": {},
   "outputs": [],
   "source": [
    "\n",
    "model=BIGRU_CNN(bert_model,vocab_size=50000,embedded_dim=64,num_classes=3,hidden_size=[64,64])"
   ]
  },
  {
   "cell_type": "code",
   "execution_count": 87,
   "metadata": {},
   "outputs": [
    {
     "data": {
      "application/vnd.jupyter.widget-view+json": {
       "model_id": "cfaed33ea830447ab168d501eb9d4e4f",
       "version_major": 2,
       "version_minor": 0
      },
      "text/plain": [
       "  0%|          | 0/171 [00:00<?, ?it/s]"
      ]
     },
     "metadata": {},
     "output_type": "display_data"
    },
    {
     "name": "stderr",
     "output_type": "stream",
     "text": [
      "D:\\Anaconda\\Lib\\site-packages\\torch\\optim\\lr_scheduler.py:271: UserWarning: To get the last learning rate computed by the scheduler, please use `get_last_lr()`.\n",
      "  warnings.warn(\"To get the last learning rate computed by the scheduler, \"\n"
     ]
    },
    {
     "name": "stdout",
     "output_type": "stream",
     "text": [
      "Epoch 1/5 - Loss: 0.8357 - Val Loss: 0.8232 - Train Acc: 0.7210 - Val Acc: 0.7283 - Precision: 0.2428 - Recall: 0.3333 - F1: 0.2809 - lr: 0.000040\n"
     ]
    },
    {
     "name": "stderr",
     "output_type": "stream",
     "text": [
      "D:\\Anaconda\\Lib\\site-packages\\sklearn\\metrics\\_classification.py:1565: UndefinedMetricWarning: Precision is ill-defined and being set to 0.0 in labels with no predicted samples. Use `zero_division` parameter to control this behavior.\n",
      "  _warn_prf(average, modifier, f\"{metric.capitalize()} is\", len(result))\n"
     ]
    },
    {
     "data": {
      "application/vnd.jupyter.widget-view+json": {
       "model_id": "27741c0f5f464707b86b100a1c717d47",
       "version_major": 2,
       "version_minor": 0
      },
      "text/plain": [
       "  0%|          | 0/171 [00:00<?, ?it/s]"
      ]
     },
     "metadata": {},
     "output_type": "display_data"
    },
    {
     "name": "stderr",
     "output_type": "stream",
     "text": [
      "D:\\Anaconda\\Lib\\site-packages\\torch\\optim\\lr_scheduler.py:271: UserWarning: To get the last learning rate computed by the scheduler, please use `get_last_lr()`.\n",
      "  warnings.warn(\"To get the last learning rate computed by the scheduler, \"\n"
     ]
    },
    {
     "name": "stdout",
     "output_type": "stream",
     "text": [
      "Epoch 2/5 - Loss: 0.8233 - Val Loss: 0.8232 - Train Acc: 0.7284 - Val Acc: 0.7283 - Precision: 0.2428 - Recall: 0.3333 - F1: 0.2809 - lr: 0.000030\n"
     ]
    },
    {
     "name": "stderr",
     "output_type": "stream",
     "text": [
      "D:\\Anaconda\\Lib\\site-packages\\sklearn\\metrics\\_classification.py:1565: UndefinedMetricWarning: Precision is ill-defined and being set to 0.0 in labels with no predicted samples. Use `zero_division` parameter to control this behavior.\n",
      "  _warn_prf(average, modifier, f\"{metric.capitalize()} is\", len(result))\n"
     ]
    },
    {
     "data": {
      "application/vnd.jupyter.widget-view+json": {
       "model_id": "1fcd53a94dc54a6082c8d14f045fc71e",
       "version_major": 2,
       "version_minor": 0
      },
      "text/plain": [
       "  0%|          | 0/171 [00:00<?, ?it/s]"
      ]
     },
     "metadata": {},
     "output_type": "display_data"
    },
    {
     "name": "stderr",
     "output_type": "stream",
     "text": [
      "D:\\Anaconda\\Lib\\site-packages\\torch\\optim\\lr_scheduler.py:271: UserWarning: To get the last learning rate computed by the scheduler, please use `get_last_lr()`.\n",
      "  warnings.warn(\"To get the last learning rate computed by the scheduler, \"\n"
     ]
    },
    {
     "name": "stdout",
     "output_type": "stream",
     "text": [
      "Epoch 3/5 - Loss: 0.8224 - Val Loss: 0.8232 - Train Acc: 0.7284 - Val Acc: 0.7283 - Precision: 0.2428 - Recall: 0.3333 - F1: 0.2809 - lr: 0.000020\n"
     ]
    },
    {
     "name": "stderr",
     "output_type": "stream",
     "text": [
      "D:\\Anaconda\\Lib\\site-packages\\sklearn\\metrics\\_classification.py:1565: UndefinedMetricWarning: Precision is ill-defined and being set to 0.0 in labels with no predicted samples. Use `zero_division` parameter to control this behavior.\n",
      "  _warn_prf(average, modifier, f\"{metric.capitalize()} is\", len(result))\n"
     ]
    },
    {
     "data": {
      "application/vnd.jupyter.widget-view+json": {
       "model_id": "2a71a0debd83409a862213338b5d39bc",
       "version_major": 2,
       "version_minor": 0
      },
      "text/plain": [
       "  0%|          | 0/171 [00:00<?, ?it/s]"
      ]
     },
     "metadata": {},
     "output_type": "display_data"
    },
    {
     "name": "stderr",
     "output_type": "stream",
     "text": [
      "D:\\Anaconda\\Lib\\site-packages\\torch\\optim\\lr_scheduler.py:271: UserWarning: To get the last learning rate computed by the scheduler, please use `get_last_lr()`.\n",
      "  warnings.warn(\"To get the last learning rate computed by the scheduler, \"\n"
     ]
    },
    {
     "name": "stdout",
     "output_type": "stream",
     "text": [
      "Epoch 4/5 - Loss: 0.8233 - Val Loss: 0.8232 - Train Acc: 0.7284 - Val Acc: 0.7283 - Precision: 0.2428 - Recall: 0.3333 - F1: 0.2809 - lr: 0.000010\n"
     ]
    },
    {
     "name": "stderr",
     "output_type": "stream",
     "text": [
      "D:\\Anaconda\\Lib\\site-packages\\sklearn\\metrics\\_classification.py:1565: UndefinedMetricWarning: Precision is ill-defined and being set to 0.0 in labels with no predicted samples. Use `zero_division` parameter to control this behavior.\n",
      "  _warn_prf(average, modifier, f\"{metric.capitalize()} is\", len(result))\n"
     ]
    },
    {
     "data": {
      "application/vnd.jupyter.widget-view+json": {
       "model_id": "8a20404b9b904e43bdb2905405458066",
       "version_major": 2,
       "version_minor": 0
      },
      "text/plain": [
       "  0%|          | 0/171 [00:00<?, ?it/s]"
      ]
     },
     "metadata": {},
     "output_type": "display_data"
    },
    {
     "name": "stderr",
     "output_type": "stream",
     "text": [
      "D:\\Anaconda\\Lib\\site-packages\\torch\\optim\\lr_scheduler.py:271: UserWarning: To get the last learning rate computed by the scheduler, please use `get_last_lr()`.\n",
      "  warnings.warn(\"To get the last learning rate computed by the scheduler, \"\n"
     ]
    },
    {
     "name": "stdout",
     "output_type": "stream",
     "text": [
      "Epoch 5/5 - Loss: 0.8229 - Val Loss: 0.8232 - Train Acc: 0.7284 - Val Acc: 0.7283 - Precision: 0.2428 - Recall: 0.3333 - F1: 0.2809 - lr: 0.000000\n"
     ]
    },
    {
     "name": "stderr",
     "output_type": "stream",
     "text": [
      "D:\\Anaconda\\Lib\\site-packages\\sklearn\\metrics\\_classification.py:1565: UndefinedMetricWarning: Precision is ill-defined and being set to 0.0 in labels with no predicted samples. Use `zero_division` parameter to control this behavior.\n",
      "  _warn_prf(average, modifier, f\"{metric.capitalize()} is\", len(result))\n"
     ]
    }
   ],
   "source": [
    "\n",
    "\n",
    "fit(model,train_dataset,val_dataset,batch_size=64)"
   ]
  },
  {
   "cell_type": "code",
   "execution_count": 94,
   "metadata": {},
   "outputs": [
    {
     "name": "stdout",
     "output_type": "stream",
     "text": [
      "ACC: 0.7281 - Precision: 0.2427 - Recall: 0.3333 - F1: 0.2809\n"
     ]
    },
    {
     "name": "stderr",
     "output_type": "stream",
     "text": [
      "D:\\Anaconda\\Lib\\site-packages\\sklearn\\metrics\\_classification.py:1565: UndefinedMetricWarning: Precision is ill-defined and being set to 0.0 in labels with no predicted samples. Use `zero_division` parameter to control this behavior.\n",
      "  _warn_prf(average, modifier, f\"{metric.capitalize()} is\", len(result))\n"
     ]
    }
   ],
   "source": [
    "preds_bigru_cnn=[]\n",
    "\n",
    "\n",
    "labels=[]\n",
    "test_correct=0\n",
    "device=torch.device('cuda')\n",
    "test_loader=DataLoader(test_dataset,batch_size=64,shuffle=False)\n",
    "\n",
    "\n",
    "for x, x_attention, token, y_batch in test_loader:\n",
    "        x, x_attention, token, y_batch = x.to(device), x_attention.to(device), token.to(device), y_batch.to(device)\n",
    "        y_pred = model(x, token, x_attention)\n",
    "\n",
    "        preds = y_pred.argmax(dim=1)\n",
    "        preds_bigru_cnn.extend(preds.cpu().numpy())\n",
    "        labels.extend(y_batch.cpu().numpy())\n",
    "\n",
    "        test_correct += preds.eq(y_batch).sum().item()\n",
    "\n",
    "val_auc = test_correct / len(test_loader.dataset)\n",
    "precision = precision_score(labels, preds_bigru_cnn, average='macro')\n",
    "recall = recall_score(labels, preds_bigru_cnn, average='macro')\n",
    "f1 = f1_score(labels, preds_bigru_cnn, average='macro')\n",
    "\n",
    "\n",
    "\n",
    "print(\n",
    "        f'ACC: {val_acc:.4f} - Precision: {precision:.4f} - Recall: {recall:.4f} - F1: {f1:.4f}')"
   ]
  },
  {
   "cell_type": "markdown",
   "metadata": {},
   "source": [
    "**BIGUR**"
   ]
  },
  {
   "cell_type": "code",
   "execution_count": 26,
   "metadata": {},
   "outputs": [],
   "source": [
    "class BILSTM(nn.Module):\n",
    "    def __init__(self,bert_model,num_classes, vocab_size,embedded_dim,hidden_size, kernel_sizes=[4,5,6], num_channels=[128,128,128]):\n",
    "        super(BILSTM, self).__init__()\n",
    "        self.bert_model=bert_model\n",
    "        self.vocab_size=vocab_size\n",
    "        self.embedded_dim=embedded_dim\n",
    "        self.hidden_size = hidden_size\n",
    "        self.num_classes = num_classes\n",
    "        self.embedding=nn.Embedding(self.vocab_size,self.embedded_dim)\n",
    "\n",
    "        self.BIGRU1 = nn.LSTM(input_size=self.embedded_dim, hidden_size=self.hidden_size[0], num_layers=2, bidirectional=True, batch_first=True)\n",
    "        # self.BIGRU2 = nn.GRU(input_size=self.hidden_size[0] * 2, hidden_size=self.hidden_size[1], num_layers=1, bidirectional=True, batch_first=False)\n",
    "\n",
    "        self.fc = nn.Sequential(\n",
    "            nn.Dropout(p=0.5),\n",
    "            nn.Linear(self.hidden_size[0]*2, num_classes),  # 使用 nn.Linear\n",
    "            nn.ReLU(),  # 使用 nn.ReLU 作为激活函数\n",
    "            nn.Softmax(dim=1)\n",
    "        )\n",
    "\n",
    "    def forward(self, input_ids,tokens,attention_mask):\n",
    "        \n",
    "        \n",
    "        \n",
    "        # last_hidden_states=self.bert_model(input_ids,attention_mask=attention_mask,token_type_ids=tokens).last_hidden_state\n",
    "        embedded_inputs=self.embedding(input_ids)\n",
    "        \n",
    "        \n",
    "        \n",
    "        # 传入 BIGRU 计算输出\n",
    "        outputs, _ = self.BIGRU1(embedded_inputs)\n",
    "        # outputs, _ = self.BIGRU2(outputs)\n",
    "\n",
    "        y = outputs[:, -1, :] \n",
    "        # 通过全连接层得到最终输出\n",
    "        out = self.fc(y)\n",
    "        return out\n"
   ]
  },
  {
   "cell_type": "code",
   "execution_count": 27,
   "metadata": {},
   "outputs": [],
   "source": [
    "class BIGRU(nn.Module):\n",
    "    def __init__(self,bert_model,num_classes, vocab_size,embedded_dim,hidden_size, kernel_sizes=[4,5,6], num_channels=[128,128,128]):\n",
    "        super(BIGRU, self).__init__()\n",
    "        self.bert_model=bert_model\n",
    "        self.vocab_size=vocab_size\n",
    "        self.embedded_dim=embedded_dim\n",
    "        self.hidden_size = hidden_size\n",
    "        self.num_classes = num_classes\n",
    "        self.embedding=nn.Embedding(self.vocab_size,self.embedded_dim)\n",
    "\n",
    "        self.BIGRU1 = nn.GRU(input_size=self.embedded_dim, hidden_size=self.hidden_size[0], num_layers=2, bidirectional=True, batch_first=True)\n",
    "        # self.BIGRU2 = nn.GRU(input_size=self.hidden_size[0] * 2, hidden_size=self.hidden_size[1], num_layers=1, bidirectional=True, batch_first=False)\n",
    "\n",
    "        self.fc = nn.Sequential(\n",
    "            nn.Dropout(p=0.5),\n",
    "            nn.Linear(self.hidden_size[0]*2, num_classes),  # 使用 nn.Linear\n",
    "            nn.ReLU(),  # 使用 nn.ReLU 作为激活函数\n",
    "            nn.Softmax(dim=1)\n",
    "        )\n",
    "\n",
    "    def forward(self, input_ids,tokens,attention_mask):\n",
    "        \n",
    "        \n",
    "        \n",
    "        # last_hidden_states=self.bert_model(input_ids,attention_mask=attention_mask,token_type_ids=tokens).last_hidden_state\n",
    "        embedded_inputs=self.embedding(input_ids)\n",
    "        \n",
    "        \n",
    "        \n",
    "        # 传入 BIGRU 计算输出\n",
    "        outputs, _ = self.BIGRU1(embedded_inputs)\n",
    "        # outputs, _ = self.BIGRU2(outputs)\n",
    "\n",
    "        y = outputs[:, -1, :] \n",
    "        # 通过全连接层得到最终输出\n",
    "        out = self.fc(y)\n",
    "        return out\n"
   ]
  },
  {
   "cell_type": "code",
   "execution_count": 28,
   "metadata": {},
   "outputs": [],
   "source": [
    "import torch\n",
    "import torch.nn as nn\n",
    "\n",
    "class CNN(nn.Module):\n",
    "    def __init__(self, bert_model, num_classes, vocab_size, embedded_dim, kernel_sizes=[4,5,6], num_channels=[128,128,128]):\n",
    "        super(CNN, self).__init__()\n",
    "        self.bert_model = bert_model\n",
    "        self.vocab_size = vocab_size\n",
    "        self.embedded_dim = embedded_dim\n",
    "        self.num_classes = num_classes\n",
    "        self.embedding = nn.Embedding(self.vocab_size, self.embedded_dim)\n",
    "        \n",
    "        # 卷积层\n",
    "        self.cnn_layers = nn.ModuleList()  # 创建多个一维卷积层\n",
    "        for c, k in zip(num_channels, kernel_sizes):\n",
    "            cnn = nn.Sequential(\n",
    "                nn.Conv1d(in_channels=self.embedded_dim, out_channels=c, kernel_size=k),  # 输入通道是词嵌入的维度\n",
    "                nn.BatchNorm1d(c),\n",
    "                nn.ReLU(),\n",
    "                nn.Dropout(0.5)\n",
    "            )\n",
    "            self.cnn_layers.append(cnn)\n",
    "\n",
    "        # 全局池化层\n",
    "        self.pool = nn.AdaptiveMaxPool1d(1)  # 按照 max len 来张开\n",
    "        \n",
    "        # 输出层\n",
    "        self.fc = nn.Sequential(\n",
    "            nn.Dropout(p=0.5),\n",
    "            nn.Linear(sum(num_channels), num_classes),  # 使用 nn.Linear\n",
    "            nn.ReLU(),  # 使用 nn.ReLU 作为激活函数\n",
    "            nn.Softmax(dim=1)\n",
    "        )\n",
    "\n",
    "    def forward(self, input_ids, tokens, attention_mask):\n",
    "        \n",
    "        \n",
    "        # 使用词嵌入作为输入 (如果不使用预训练模型嵌入，可以替换为嵌入层输出)\n",
    "        embedded_inputs = self.embedding(input_ids)\n",
    "        \n",
    "        # CNN 处理\n",
    "        y = []\n",
    "        cnn_input = embedded_inputs.permute(0, 2, 1)  # 转置维度为 (batch_size, hidden_dim, seq_len)\n",
    "\n",
    "        # 遍历各个卷积层\n",
    "        for layer in self.cnn_layers:\n",
    "            x = layer(cnn_input)\n",
    "            x = self.pool(x)  # 池化层\n",
    "            x = x.view(x.size(0), x.size(1), -1)  # 展平\n",
    "            y.append(x)\n",
    "\n",
    "        # 将所有卷积层输出的结果拼接在一起\n",
    "        y = torch.cat(y, dim=1)\n",
    "        y = y.view(y.size(0), -1)  # 展平\n",
    "\n",
    "        # 通过全连接层得到最终输出\n",
    "        out = self.fc(y)\n",
    "        return out\n"
   ]
  },
  {
   "cell_type": "code",
   "execution_count": 29,
   "metadata": {},
   "outputs": [],
   "source": [
    "bilstm=BILSTM(bert_model,vocab_size=50000,embedded_dim=64,num_classes=3,hidden_size=[64,64])"
   ]
  },
  {
   "cell_type": "code",
   "execution_count": 30,
   "metadata": {},
   "outputs": [],
   "source": [
    "bigru=BIGRU(bert_model,vocab_size=50000,embedded_dim=64,num_classes=3,hidden_size=[64,64])"
   ]
  },
  {
   "cell_type": "code",
   "execution_count": 31,
   "metadata": {},
   "outputs": [],
   "source": [
    "cnn=CNN(bert_model,vocab_size=50000,embedded_dim=64,num_classes=3)"
   ]
  },
  {
   "cell_type": "code",
   "execution_count": 32,
   "metadata": {},
   "outputs": [
    {
     "data": {
      "application/vnd.jupyter.widget-view+json": {
       "model_id": "50a34b8f221440d2be9bbe1f5f240e11",
       "version_major": 2,
       "version_minor": 0
      },
      "text/plain": [
       "  0%|          | 0/762 [00:00<?, ?it/s]"
      ]
     },
     "metadata": {},
     "output_type": "display_data"
    },
    {
     "name": "stderr",
     "output_type": "stream",
     "text": [
      "C:\\Users\\Hero Stephen\\AppData\\Local\\Temp\\ipykernel_20400\\3088427532.py:20: DeprecationWarning:\n",
      "\n",
      "an integer is required (got type numpy.float64).  Implicit conversion to integers using __int__ is deprecated, and may be removed in a future version of Python.\n",
      "\n",
      "D:\\Anaconda\\Lib\\site-packages\\torch\\optim\\lr_scheduler.py:271: UserWarning:\n",
      "\n",
      "To get the last learning rate computed by the scheduler, please use `get_last_lr()`.\n",
      "\n",
      "D:\\Anaconda\\Lib\\site-packages\\sklearn\\metrics\\_classification.py:1318: UndefinedMetricWarning:\n",
      "\n",
      "Precision is ill-defined and being set to 0.0 in labels with no predicted samples. Use `zero_division` parameter to control this behavior.\n",
      "\n"
     ]
    },
    {
     "name": "stdout",
     "output_type": "stream",
     "text": [
      "Epoch 1/50 - Loss: 1.0983 - Val Loss: 1.0982 - Train Acc: 0.3460 - Val Acc: 0.3473 - Precision: 0.1158 - Recall: 0.3333 - F1: 0.1719 - lr: 0.000049\n"
     ]
    },
    {
     "data": {
      "application/vnd.jupyter.widget-view+json": {
       "model_id": "2d98b71f666149e389130cf052b263b4",
       "version_major": 2,
       "version_minor": 0
      },
      "text/plain": [
       "  0%|          | 0/762 [00:00<?, ?it/s]"
      ]
     },
     "metadata": {},
     "output_type": "display_data"
    },
    {
     "name": "stderr",
     "output_type": "stream",
     "text": [
      "C:\\Users\\Hero Stephen\\AppData\\Local\\Temp\\ipykernel_20400\\3088427532.py:20: DeprecationWarning:\n",
      "\n",
      "an integer is required (got type numpy.float64).  Implicit conversion to integers using __int__ is deprecated, and may be removed in a future version of Python.\n",
      "\n",
      "D:\\Anaconda\\Lib\\site-packages\\torch\\optim\\lr_scheduler.py:271: UserWarning:\n",
      "\n",
      "To get the last learning rate computed by the scheduler, please use `get_last_lr()`.\n",
      "\n",
      "D:\\Anaconda\\Lib\\site-packages\\sklearn\\metrics\\_classification.py:1318: UndefinedMetricWarning:\n",
      "\n",
      "Precision is ill-defined and being set to 0.0 in labels with no predicted samples. Use `zero_division` parameter to control this behavior.\n",
      "\n"
     ]
    },
    {
     "name": "stdout",
     "output_type": "stream",
     "text": [
      "Epoch 2/50 - Loss: 1.0983 - Val Loss: 1.0982 - Train Acc: 0.3473 - Val Acc: 0.3473 - Precision: 0.1158 - Recall: 0.3333 - F1: 0.1719 - lr: 0.000048\n"
     ]
    },
    {
     "data": {
      "application/vnd.jupyter.widget-view+json": {
       "model_id": "bf4a14494b4e41749912574823be70c9",
       "version_major": 2,
       "version_minor": 0
      },
      "text/plain": [
       "  0%|          | 0/762 [00:00<?, ?it/s]"
      ]
     },
     "metadata": {},
     "output_type": "display_data"
    },
    {
     "name": "stderr",
     "output_type": "stream",
     "text": [
      "C:\\Users\\Hero Stephen\\AppData\\Local\\Temp\\ipykernel_20400\\3088427532.py:20: DeprecationWarning:\n",
      "\n",
      "an integer is required (got type numpy.float64).  Implicit conversion to integers using __int__ is deprecated, and may be removed in a future version of Python.\n",
      "\n",
      "D:\\Anaconda\\Lib\\site-packages\\torch\\optim\\lr_scheduler.py:271: UserWarning:\n",
      "\n",
      "To get the last learning rate computed by the scheduler, please use `get_last_lr()`.\n",
      "\n",
      "D:\\Anaconda\\Lib\\site-packages\\sklearn\\metrics\\_classification.py:1318: UndefinedMetricWarning:\n",
      "\n",
      "Precision is ill-defined and being set to 0.0 in labels with no predicted samples. Use `zero_division` parameter to control this behavior.\n",
      "\n"
     ]
    },
    {
     "name": "stdout",
     "output_type": "stream",
     "text": [
      "Epoch 3/50 - Loss: 1.0983 - Val Loss: 1.0982 - Train Acc: 0.3473 - Val Acc: 0.3473 - Precision: 0.1158 - Recall: 0.3333 - F1: 0.1719 - lr: 0.000047\n"
     ]
    },
    {
     "data": {
      "application/vnd.jupyter.widget-view+json": {
       "model_id": "266292e1076242609df3fc24054e902d",
       "version_major": 2,
       "version_minor": 0
      },
      "text/plain": [
       "  0%|          | 0/762 [00:00<?, ?it/s]"
      ]
     },
     "metadata": {},
     "output_type": "display_data"
    },
    {
     "name": "stderr",
     "output_type": "stream",
     "text": [
      "C:\\Users\\Hero Stephen\\AppData\\Local\\Temp\\ipykernel_20400\\3088427532.py:20: DeprecationWarning:\n",
      "\n",
      "an integer is required (got type numpy.float64).  Implicit conversion to integers using __int__ is deprecated, and may be removed in a future version of Python.\n",
      "\n",
      "D:\\Anaconda\\Lib\\site-packages\\torch\\optim\\lr_scheduler.py:271: UserWarning:\n",
      "\n",
      "To get the last learning rate computed by the scheduler, please use `get_last_lr()`.\n",
      "\n",
      "D:\\Anaconda\\Lib\\site-packages\\sklearn\\metrics\\_classification.py:1318: UndefinedMetricWarning:\n",
      "\n",
      "Precision is ill-defined and being set to 0.0 in labels with no predicted samples. Use `zero_division` parameter to control this behavior.\n",
      "\n"
     ]
    },
    {
     "name": "stdout",
     "output_type": "stream",
     "text": [
      "Epoch 4/50 - Loss: 1.0983 - Val Loss: 1.0982 - Train Acc: 0.3473 - Val Acc: 0.3473 - Precision: 0.1158 - Recall: 0.3333 - F1: 0.1719 - lr: 0.000046\n"
     ]
    },
    {
     "data": {
      "application/vnd.jupyter.widget-view+json": {
       "model_id": "b2f4892b69e6438f8cf94cda75ecd931",
       "version_major": 2,
       "version_minor": 0
      },
      "text/plain": [
       "  0%|          | 0/762 [00:00<?, ?it/s]"
      ]
     },
     "metadata": {},
     "output_type": "display_data"
    },
    {
     "name": "stderr",
     "output_type": "stream",
     "text": [
      "C:\\Users\\Hero Stephen\\AppData\\Local\\Temp\\ipykernel_20400\\3088427532.py:20: DeprecationWarning:\n",
      "\n",
      "an integer is required (got type numpy.float64).  Implicit conversion to integers using __int__ is deprecated, and may be removed in a future version of Python.\n",
      "\n",
      "D:\\Anaconda\\Lib\\site-packages\\torch\\optim\\lr_scheduler.py:271: UserWarning:\n",
      "\n",
      "To get the last learning rate computed by the scheduler, please use `get_last_lr()`.\n",
      "\n",
      "D:\\Anaconda\\Lib\\site-packages\\sklearn\\metrics\\_classification.py:1318: UndefinedMetricWarning:\n",
      "\n",
      "Precision is ill-defined and being set to 0.0 in labels with no predicted samples. Use `zero_division` parameter to control this behavior.\n",
      "\n"
     ]
    },
    {
     "name": "stdout",
     "output_type": "stream",
     "text": [
      "Epoch 5/50 - Loss: 1.0982 - Val Loss: 1.0982 - Train Acc: 0.3473 - Val Acc: 0.3473 - Precision: 0.1158 - Recall: 0.3333 - F1: 0.1719 - lr: 0.000045\n"
     ]
    },
    {
     "data": {
      "application/vnd.jupyter.widget-view+json": {
       "model_id": "3e9e6e4251b044ab922624b50f9c09bf",
       "version_major": 2,
       "version_minor": 0
      },
      "text/plain": [
       "  0%|          | 0/762 [00:00<?, ?it/s]"
      ]
     },
     "metadata": {},
     "output_type": "display_data"
    },
    {
     "name": "stderr",
     "output_type": "stream",
     "text": [
      "C:\\Users\\Hero Stephen\\AppData\\Local\\Temp\\ipykernel_20400\\3088427532.py:20: DeprecationWarning:\n",
      "\n",
      "an integer is required (got type numpy.float64).  Implicit conversion to integers using __int__ is deprecated, and may be removed in a future version of Python.\n",
      "\n",
      "D:\\Anaconda\\Lib\\site-packages\\torch\\optim\\lr_scheduler.py:271: UserWarning:\n",
      "\n",
      "To get the last learning rate computed by the scheduler, please use `get_last_lr()`.\n",
      "\n",
      "D:\\Anaconda\\Lib\\site-packages\\sklearn\\metrics\\_classification.py:1318: UndefinedMetricWarning:\n",
      "\n",
      "Precision is ill-defined and being set to 0.0 in labels with no predicted samples. Use `zero_division` parameter to control this behavior.\n",
      "\n"
     ]
    },
    {
     "name": "stdout",
     "output_type": "stream",
     "text": [
      "Epoch 6/50 - Loss: 1.0982 - Val Loss: 1.0982 - Train Acc: 0.3473 - Val Acc: 0.3473 - Precision: 0.1158 - Recall: 0.3333 - F1: 0.1719 - lr: 0.000044\n"
     ]
    },
    {
     "data": {
      "application/vnd.jupyter.widget-view+json": {
       "model_id": "1e60a88adad446edbd1184780f18817f",
       "version_major": 2,
       "version_minor": 0
      },
      "text/plain": [
       "  0%|          | 0/762 [00:00<?, ?it/s]"
      ]
     },
     "metadata": {},
     "output_type": "display_data"
    },
    {
     "name": "stderr",
     "output_type": "stream",
     "text": [
      "C:\\Users\\Hero Stephen\\AppData\\Local\\Temp\\ipykernel_20400\\3088427532.py:20: DeprecationWarning:\n",
      "\n",
      "an integer is required (got type numpy.float64).  Implicit conversion to integers using __int__ is deprecated, and may be removed in a future version of Python.\n",
      "\n",
      "D:\\Anaconda\\Lib\\site-packages\\torch\\optim\\lr_scheduler.py:271: UserWarning:\n",
      "\n",
      "To get the last learning rate computed by the scheduler, please use `get_last_lr()`.\n",
      "\n",
      "D:\\Anaconda\\Lib\\site-packages\\sklearn\\metrics\\_classification.py:1318: UndefinedMetricWarning:\n",
      "\n",
      "Precision is ill-defined and being set to 0.0 in labels with no predicted samples. Use `zero_division` parameter to control this behavior.\n",
      "\n"
     ]
    },
    {
     "name": "stdout",
     "output_type": "stream",
     "text": [
      "Epoch 7/50 - Loss: 1.0981 - Val Loss: 1.0976 - Train Acc: 0.3459 - Val Acc: 0.3473 - Precision: 0.1158 - Recall: 0.3333 - F1: 0.1719 - lr: 0.000043\n"
     ]
    },
    {
     "data": {
      "application/vnd.jupyter.widget-view+json": {
       "model_id": "fdfbdcd8995345c0b19fafc0fcbb653d",
       "version_major": 2,
       "version_minor": 0
      },
      "text/plain": [
       "  0%|          | 0/762 [00:00<?, ?it/s]"
      ]
     },
     "metadata": {},
     "output_type": "display_data"
    },
    {
     "name": "stderr",
     "output_type": "stream",
     "text": [
      "C:\\Users\\Hero Stephen\\AppData\\Local\\Temp\\ipykernel_20400\\3088427532.py:20: DeprecationWarning:\n",
      "\n",
      "an integer is required (got type numpy.float64).  Implicit conversion to integers using __int__ is deprecated, and may be removed in a future version of Python.\n",
      "\n",
      "D:\\Anaconda\\Lib\\site-packages\\torch\\optim\\lr_scheduler.py:271: UserWarning:\n",
      "\n",
      "To get the last learning rate computed by the scheduler, please use `get_last_lr()`.\n",
      "\n",
      "D:\\Anaconda\\Lib\\site-packages\\sklearn\\metrics\\_classification.py:1318: UndefinedMetricWarning:\n",
      "\n",
      "Precision is ill-defined and being set to 0.0 in labels with no predicted samples. Use `zero_division` parameter to control this behavior.\n",
      "\n"
     ]
    },
    {
     "name": "stdout",
     "output_type": "stream",
     "text": [
      "Epoch 8/50 - Loss: 1.0975 - Val Loss: 1.0973 - Train Acc: 0.3483 - Val Acc: 0.3473 - Precision: 0.1158 - Recall: 0.3333 - F1: 0.1719 - lr: 0.000042\n"
     ]
    },
    {
     "data": {
      "application/vnd.jupyter.widget-view+json": {
       "model_id": "cd44658cdccd410196fa5f1aebb22cc5",
       "version_major": 2,
       "version_minor": 0
      },
      "text/plain": [
       "  0%|          | 0/762 [00:00<?, ?it/s]"
      ]
     },
     "metadata": {},
     "output_type": "display_data"
    },
    {
     "name": "stderr",
     "output_type": "stream",
     "text": [
      "C:\\Users\\Hero Stephen\\AppData\\Local\\Temp\\ipykernel_20400\\3088427532.py:20: DeprecationWarning:\n",
      "\n",
      "an integer is required (got type numpy.float64).  Implicit conversion to integers using __int__ is deprecated, and may be removed in a future version of Python.\n",
      "\n",
      "D:\\Anaconda\\Lib\\site-packages\\torch\\optim\\lr_scheduler.py:271: UserWarning:\n",
      "\n",
      "To get the last learning rate computed by the scheduler, please use `get_last_lr()`.\n",
      "\n"
     ]
    },
    {
     "name": "stdout",
     "output_type": "stream",
     "text": [
      "Epoch 9/50 - Loss: 1.0972 - Val Loss: 1.0941 - Train Acc: 0.3455 - Val Acc: 0.3920 - Precision: 0.2854 - Recall: 0.3781 - F1: 0.3162 - lr: 0.000041\n"
     ]
    },
    {
     "name": "stderr",
     "output_type": "stream",
     "text": [
      "D:\\Anaconda\\Lib\\site-packages\\sklearn\\metrics\\_classification.py:1318: UndefinedMetricWarning:\n",
      "\n",
      "Precision is ill-defined and being set to 0.0 in labels with no predicted samples. Use `zero_division` parameter to control this behavior.\n",
      "\n"
     ]
    },
    {
     "data": {
      "application/vnd.jupyter.widget-view+json": {
       "model_id": "c522292095334c36847879c600c4448e",
       "version_major": 2,
       "version_minor": 0
      },
      "text/plain": [
       "  0%|          | 0/762 [00:00<?, ?it/s]"
      ]
     },
     "metadata": {},
     "output_type": "display_data"
    },
    {
     "name": "stderr",
     "output_type": "stream",
     "text": [
      "C:\\Users\\Hero Stephen\\AppData\\Local\\Temp\\ipykernel_20400\\3088427532.py:20: DeprecationWarning:\n",
      "\n",
      "an integer is required (got type numpy.float64).  Implicit conversion to integers using __int__ is deprecated, and may be removed in a future version of Python.\n",
      "\n",
      "D:\\Anaconda\\Lib\\site-packages\\torch\\optim\\lr_scheduler.py:271: UserWarning:\n",
      "\n",
      "To get the last learning rate computed by the scheduler, please use `get_last_lr()`.\n",
      "\n"
     ]
    },
    {
     "name": "stdout",
     "output_type": "stream",
     "text": [
      "Epoch 10/50 - Loss: 1.0069 - Val Loss: 0.9759 - Train Acc: 0.5099 - Val Acc: 0.5445 - Precision: 0.4654 - Recall: 0.5247 - F1: 0.4441 - lr: 0.000040\n"
     ]
    },
    {
     "name": "stderr",
     "output_type": "stream",
     "text": [
      "D:\\Anaconda\\Lib\\site-packages\\sklearn\\metrics\\_classification.py:1318: UndefinedMetricWarning:\n",
      "\n",
      "Precision is ill-defined and being set to 0.0 in labels with no predicted samples. Use `zero_division` parameter to control this behavior.\n",
      "\n"
     ]
    },
    {
     "data": {
      "application/vnd.jupyter.widget-view+json": {
       "model_id": "30062cbc921c484296ea467e6290b689",
       "version_major": 2,
       "version_minor": 0
      },
      "text/plain": [
       "  0%|          | 0/762 [00:00<?, ?it/s]"
      ]
     },
     "metadata": {},
     "output_type": "display_data"
    },
    {
     "name": "stderr",
     "output_type": "stream",
     "text": [
      "C:\\Users\\Hero Stephen\\AppData\\Local\\Temp\\ipykernel_20400\\3088427532.py:20: DeprecationWarning:\n",
      "\n",
      "an integer is required (got type numpy.float64).  Implicit conversion to integers using __int__ is deprecated, and may be removed in a future version of Python.\n",
      "\n",
      "D:\\Anaconda\\Lib\\site-packages\\torch\\optim\\lr_scheduler.py:271: UserWarning:\n",
      "\n",
      "To get the last learning rate computed by the scheduler, please use `get_last_lr()`.\n",
      "\n"
     ]
    },
    {
     "name": "stdout",
     "output_type": "stream",
     "text": [
      "Epoch 11/50 - Loss: 0.9613 - Val Loss: 0.9484 - Train Acc: 0.5433 - Val Acc: 0.5598 - Precision: 0.6400 - Recall: 0.5430 - F1: 0.5018 - lr: 0.000039\n"
     ]
    },
    {
     "data": {
      "application/vnd.jupyter.widget-view+json": {
       "model_id": "b030e9a6a2734726bfba7fb59df1f825",
       "version_major": 2,
       "version_minor": 0
      },
      "text/plain": [
       "  0%|          | 0/762 [00:00<?, ?it/s]"
      ]
     },
     "metadata": {},
     "output_type": "display_data"
    },
    {
     "name": "stderr",
     "output_type": "stream",
     "text": [
      "C:\\Users\\Hero Stephen\\AppData\\Local\\Temp\\ipykernel_20400\\3088427532.py:20: DeprecationWarning:\n",
      "\n",
      "an integer is required (got type numpy.float64).  Implicit conversion to integers using __int__ is deprecated, and may be removed in a future version of Python.\n",
      "\n",
      "D:\\Anaconda\\Lib\\site-packages\\torch\\optim\\lr_scheduler.py:271: UserWarning:\n",
      "\n",
      "To get the last learning rate computed by the scheduler, please use `get_last_lr()`.\n",
      "\n"
     ]
    },
    {
     "name": "stdout",
     "output_type": "stream",
     "text": [
      "Epoch 12/50 - Loss: 0.8531 - Val Loss: 0.7445 - Train Acc: 0.7223 - Val Acc: 0.8360 - Precision: 0.8373 - Recall: 0.8360 - F1: 0.8356 - lr: 0.000038\n"
     ]
    },
    {
     "data": {
      "application/vnd.jupyter.widget-view+json": {
       "model_id": "53e50843f7cb4f5f9d5105b78a4a8176",
       "version_major": 2,
       "version_minor": 0
      },
      "text/plain": [
       "  0%|          | 0/762 [00:00<?, ?it/s]"
      ]
     },
     "metadata": {},
     "output_type": "display_data"
    },
    {
     "name": "stderr",
     "output_type": "stream",
     "text": [
      "C:\\Users\\Hero Stephen\\AppData\\Local\\Temp\\ipykernel_20400\\3088427532.py:20: DeprecationWarning:\n",
      "\n",
      "an integer is required (got type numpy.float64).  Implicit conversion to integers using __int__ is deprecated, and may be removed in a future version of Python.\n",
      "\n",
      "D:\\Anaconda\\Lib\\site-packages\\torch\\optim\\lr_scheduler.py:271: UserWarning:\n",
      "\n",
      "To get the last learning rate computed by the scheduler, please use `get_last_lr()`.\n",
      "\n"
     ]
    },
    {
     "name": "stdout",
     "output_type": "stream",
     "text": [
      "Epoch 13/50 - Loss: 0.7261 - Val Loss: 0.6889 - Train Acc: 0.8499 - Val Acc: 0.8752 - Precision: 0.8749 - Recall: 0.8737 - F1: 0.8741 - lr: 0.000037\n"
     ]
    },
    {
     "data": {
      "application/vnd.jupyter.widget-view+json": {
       "model_id": "7ae7ff7220a64cd8938cb8a2ba3a0f7d",
       "version_major": 2,
       "version_minor": 0
      },
      "text/plain": [
       "  0%|          | 0/762 [00:00<?, ?it/s]"
      ]
     },
     "metadata": {},
     "output_type": "display_data"
    },
    {
     "name": "stderr",
     "output_type": "stream",
     "text": [
      "C:\\Users\\Hero Stephen\\AppData\\Local\\Temp\\ipykernel_20400\\3088427532.py:20: DeprecationWarning:\n",
      "\n",
      "an integer is required (got type numpy.float64).  Implicit conversion to integers using __int__ is deprecated, and may be removed in a future version of Python.\n",
      "\n",
      "D:\\Anaconda\\Lib\\site-packages\\torch\\optim\\lr_scheduler.py:271: UserWarning:\n",
      "\n",
      "To get the last learning rate computed by the scheduler, please use `get_last_lr()`.\n",
      "\n"
     ]
    },
    {
     "name": "stdout",
     "output_type": "stream",
     "text": [
      "Epoch 14/50 - Loss: 0.6889 - Val Loss: 0.6735 - Train Acc: 0.8769 - Val Acc: 0.8839 - Precision: 0.8882 - Recall: 0.8813 - F1: 0.8827 - lr: 0.000036\n"
     ]
    },
    {
     "data": {
      "application/vnd.jupyter.widget-view+json": {
       "model_id": "dcfd2816655d4b9ba809026dc8aa5983",
       "version_major": 2,
       "version_minor": 0
      },
      "text/plain": [
       "  0%|          | 0/762 [00:00<?, ?it/s]"
      ]
     },
     "metadata": {},
     "output_type": "display_data"
    },
    {
     "name": "stderr",
     "output_type": "stream",
     "text": [
      "C:\\Users\\Hero Stephen\\AppData\\Local\\Temp\\ipykernel_20400\\3088427532.py:20: DeprecationWarning:\n",
      "\n",
      "an integer is required (got type numpy.float64).  Implicit conversion to integers using __int__ is deprecated, and may be removed in a future version of Python.\n",
      "\n",
      "D:\\Anaconda\\Lib\\site-packages\\torch\\optim\\lr_scheduler.py:271: UserWarning:\n",
      "\n",
      "To get the last learning rate computed by the scheduler, please use `get_last_lr()`.\n",
      "\n"
     ]
    },
    {
     "name": "stdout",
     "output_type": "stream",
     "text": [
      "Epoch 15/50 - Loss: 0.6718 - Val Loss: 0.6603 - Train Acc: 0.8884 - Val Acc: 0.8966 - Precision: 0.8997 - Recall: 0.8950 - F1: 0.8959 - lr: 0.000035\n"
     ]
    },
    {
     "data": {
      "application/vnd.jupyter.widget-view+json": {
       "model_id": "c6ba23de577b47c68dddc1cab8ba4324",
       "version_major": 2,
       "version_minor": 0
      },
      "text/plain": [
       "  0%|          | 0/762 [00:00<?, ?it/s]"
      ]
     },
     "metadata": {},
     "output_type": "display_data"
    },
    {
     "name": "stderr",
     "output_type": "stream",
     "text": [
      "C:\\Users\\Hero Stephen\\AppData\\Local\\Temp\\ipykernel_20400\\3088427532.py:20: DeprecationWarning:\n",
      "\n",
      "an integer is required (got type numpy.float64).  Implicit conversion to integers using __int__ is deprecated, and may be removed in a future version of Python.\n",
      "\n",
      "D:\\Anaconda\\Lib\\site-packages\\torch\\optim\\lr_scheduler.py:271: UserWarning:\n",
      "\n",
      "To get the last learning rate computed by the scheduler, please use `get_last_lr()`.\n",
      "\n"
     ]
    },
    {
     "name": "stdout",
     "output_type": "stream",
     "text": [
      "Epoch 16/50 - Loss: 0.6557 - Val Loss: 0.6534 - Train Acc: 0.9029 - Val Acc: 0.9007 - Precision: 0.9050 - Recall: 0.9010 - F1: 0.9005 - lr: 0.000034\n"
     ]
    },
    {
     "data": {
      "application/vnd.jupyter.widget-view+json": {
       "model_id": "a19b882035bb47a6b432eaeb2386d4bb",
       "version_major": 2,
       "version_minor": 0
      },
      "text/plain": [
       "  0%|          | 0/762 [00:00<?, ?it/s]"
      ]
     },
     "metadata": {},
     "output_type": "display_data"
    },
    {
     "name": "stderr",
     "output_type": "stream",
     "text": [
      "C:\\Users\\Hero Stephen\\AppData\\Local\\Temp\\ipykernel_20400\\3088427532.py:20: DeprecationWarning:\n",
      "\n",
      "an integer is required (got type numpy.float64).  Implicit conversion to integers using __int__ is deprecated, and may be removed in a future version of Python.\n",
      "\n",
      "D:\\Anaconda\\Lib\\site-packages\\torch\\optim\\lr_scheduler.py:271: UserWarning:\n",
      "\n",
      "To get the last learning rate computed by the scheduler, please use `get_last_lr()`.\n",
      "\n"
     ]
    },
    {
     "name": "stdout",
     "output_type": "stream",
     "text": [
      "Epoch 17/50 - Loss: 0.6473 - Val Loss: 0.6331 - Train Acc: 0.9087 - Val Acc: 0.9202 - Precision: 0.9207 - Recall: 0.9200 - F1: 0.9197 - lr: 0.000033\n"
     ]
    },
    {
     "data": {
      "application/vnd.jupyter.widget-view+json": {
       "model_id": "edeeea8ce76047ae979c2dbb0bd366e6",
       "version_major": 2,
       "version_minor": 0
      },
      "text/plain": [
       "  0%|          | 0/762 [00:00<?, ?it/s]"
      ]
     },
     "metadata": {},
     "output_type": "display_data"
    },
    {
     "name": "stderr",
     "output_type": "stream",
     "text": [
      "C:\\Users\\Hero Stephen\\AppData\\Local\\Temp\\ipykernel_20400\\3088427532.py:20: DeprecationWarning:\n",
      "\n",
      "an integer is required (got type numpy.float64).  Implicit conversion to integers using __int__ is deprecated, and may be removed in a future version of Python.\n",
      "\n",
      "D:\\Anaconda\\Lib\\site-packages\\torch\\optim\\lr_scheduler.py:271: UserWarning:\n",
      "\n",
      "To get the last learning rate computed by the scheduler, please use `get_last_lr()`.\n",
      "\n"
     ]
    },
    {
     "name": "stdout",
     "output_type": "stream",
     "text": [
      "Early Stopping\n"
     ]
    }
   ],
   "source": [
    "fit(bilstm,train_dataset,val_dataset,batch_size=64)"
   ]
  },
  {
   "cell_type": "code",
   "execution_count": 33,
   "metadata": {},
   "outputs": [
    {
     "data": {
      "application/vnd.jupyter.widget-view+json": {
       "model_id": "496656b152a54f9dacb9101b52684f98",
       "version_major": 2,
       "version_minor": 0
      },
      "text/plain": [
       "  0%|          | 0/762 [00:00<?, ?it/s]"
      ]
     },
     "metadata": {},
     "output_type": "display_data"
    },
    {
     "name": "stderr",
     "output_type": "stream",
     "text": [
      "C:\\Users\\Hero Stephen\\AppData\\Local\\Temp\\ipykernel_20400\\3088427532.py:20: DeprecationWarning:\n",
      "\n",
      "an integer is required (got type numpy.float64).  Implicit conversion to integers using __int__ is deprecated, and may be removed in a future version of Python.\n",
      "\n",
      "D:\\Anaconda\\Lib\\site-packages\\torch\\optim\\lr_scheduler.py:271: UserWarning:\n",
      "\n",
      "To get the last learning rate computed by the scheduler, please use `get_last_lr()`.\n",
      "\n",
      "D:\\Anaconda\\Lib\\site-packages\\sklearn\\metrics\\_classification.py:1318: UndefinedMetricWarning:\n",
      "\n",
      "Precision is ill-defined and being set to 0.0 in labels with no predicted samples. Use `zero_division` parameter to control this behavior.\n",
      "\n"
     ]
    },
    {
     "name": "stdout",
     "output_type": "stream",
     "text": [
      "Epoch 1/50 - Loss: 1.0968 - Val Loss: 1.0923 - Train Acc: 0.3478 - Val Acc: 0.3442 - Precision: 0.1394 - Recall: 0.3339 - F1: 0.1737 - lr: 0.000049\n"
     ]
    },
    {
     "data": {
      "application/vnd.jupyter.widget-view+json": {
       "model_id": "d7a95f9702ab4772b9791d3d8b558043",
       "version_major": 2,
       "version_minor": 0
      },
      "text/plain": [
       "  0%|          | 0/762 [00:00<?, ?it/s]"
      ]
     },
     "metadata": {},
     "output_type": "display_data"
    },
    {
     "name": "stderr",
     "output_type": "stream",
     "text": [
      "C:\\Users\\Hero Stephen\\AppData\\Local\\Temp\\ipykernel_20400\\3088427532.py:20: DeprecationWarning:\n",
      "\n",
      "an integer is required (got type numpy.float64).  Implicit conversion to integers using __int__ is deprecated, and may be removed in a future version of Python.\n",
      "\n",
      "D:\\Anaconda\\Lib\\site-packages\\torch\\optim\\lr_scheduler.py:271: UserWarning:\n",
      "\n",
      "To get the last learning rate computed by the scheduler, please use `get_last_lr()`.\n",
      "\n"
     ]
    },
    {
     "name": "stdout",
     "output_type": "stream",
     "text": [
      "Epoch 2/50 - Loss: 0.9131 - Val Loss: 0.7063 - Train Acc: 0.6317 - Val Acc: 0.8549 - Precision: 0.8618 - Recall: 0.8524 - F1: 0.8550 - lr: 0.000048\n"
     ]
    },
    {
     "data": {
      "application/vnd.jupyter.widget-view+json": {
       "model_id": "dcd766f2955841a8b9fb6b23c7e8f563",
       "version_major": 2,
       "version_minor": 0
      },
      "text/plain": [
       "  0%|          | 0/762 [00:00<?, ?it/s]"
      ]
     },
     "metadata": {},
     "output_type": "display_data"
    },
    {
     "name": "stderr",
     "output_type": "stream",
     "text": [
      "C:\\Users\\Hero Stephen\\AppData\\Local\\Temp\\ipykernel_20400\\3088427532.py:20: DeprecationWarning:\n",
      "\n",
      "an integer is required (got type numpy.float64).  Implicit conversion to integers using __int__ is deprecated, and may be removed in a future version of Python.\n",
      "\n",
      "D:\\Anaconda\\Lib\\site-packages\\torch\\optim\\lr_scheduler.py:271: UserWarning:\n",
      "\n",
      "To get the last learning rate computed by the scheduler, please use `get_last_lr()`.\n",
      "\n"
     ]
    },
    {
     "name": "stdout",
     "output_type": "stream",
     "text": [
      "Epoch 3/50 - Loss: 0.6566 - Val Loss: 0.6293 - Train Acc: 0.9029 - Val Acc: 0.9245 - Precision: 0.9243 - Recall: 0.9239 - F1: 0.9241 - lr: 0.000047\n"
     ]
    },
    {
     "data": {
      "application/vnd.jupyter.widget-view+json": {
       "model_id": "096868d0b5984e6099d2b7f641e98f16",
       "version_major": 2,
       "version_minor": 0
      },
      "text/plain": [
       "  0%|          | 0/762 [00:00<?, ?it/s]"
      ]
     },
     "metadata": {},
     "output_type": "display_data"
    },
    {
     "name": "stderr",
     "output_type": "stream",
     "text": [
      "C:\\Users\\Hero Stephen\\AppData\\Local\\Temp\\ipykernel_20400\\3088427532.py:20: DeprecationWarning:\n",
      "\n",
      "an integer is required (got type numpy.float64).  Implicit conversion to integers using __int__ is deprecated, and may be removed in a future version of Python.\n",
      "\n",
      "D:\\Anaconda\\Lib\\site-packages\\torch\\optim\\lr_scheduler.py:271: UserWarning:\n",
      "\n",
      "To get the last learning rate computed by the scheduler, please use `get_last_lr()`.\n",
      "\n"
     ]
    },
    {
     "name": "stdout",
     "output_type": "stream",
     "text": [
      "Epoch 4/50 - Loss: 0.6148 - Val Loss: 0.6019 - Train Acc: 0.9402 - Val Acc: 0.9511 - Precision: 0.9506 - Recall: 0.9516 - F1: 0.9508 - lr: 0.000046\n"
     ]
    },
    {
     "data": {
      "application/vnd.jupyter.widget-view+json": {
       "model_id": "9323363f76dc456ea3afca2c7a43182d",
       "version_major": 2,
       "version_minor": 0
      },
      "text/plain": [
       "  0%|          | 0/762 [00:00<?, ?it/s]"
      ]
     },
     "metadata": {},
     "output_type": "display_data"
    },
    {
     "name": "stderr",
     "output_type": "stream",
     "text": [
      "C:\\Users\\Hero Stephen\\AppData\\Local\\Temp\\ipykernel_20400\\3088427532.py:20: DeprecationWarning:\n",
      "\n",
      "an integer is required (got type numpy.float64).  Implicit conversion to integers using __int__ is deprecated, and may be removed in a future version of Python.\n",
      "\n",
      "D:\\Anaconda\\Lib\\site-packages\\torch\\optim\\lr_scheduler.py:271: UserWarning:\n",
      "\n",
      "To get the last learning rate computed by the scheduler, please use `get_last_lr()`.\n",
      "\n"
     ]
    },
    {
     "name": "stdout",
     "output_type": "stream",
     "text": [
      "Epoch 5/50 - Loss: 0.5983 - Val Loss: 0.5920 - Train Acc: 0.9549 - Val Acc: 0.9601 - Precision: 0.9597 - Recall: 0.9599 - F1: 0.9598 - lr: 0.000045\n"
     ]
    },
    {
     "data": {
      "application/vnd.jupyter.widget-view+json": {
       "model_id": "72cc935864f3430ab0b2e969057af7cb",
       "version_major": 2,
       "version_minor": 0
      },
      "text/plain": [
       "  0%|          | 0/762 [00:00<?, ?it/s]"
      ]
     },
     "metadata": {},
     "output_type": "display_data"
    },
    {
     "name": "stderr",
     "output_type": "stream",
     "text": [
      "C:\\Users\\Hero Stephen\\AppData\\Local\\Temp\\ipykernel_20400\\3088427532.py:20: DeprecationWarning:\n",
      "\n",
      "an integer is required (got type numpy.float64).  Implicit conversion to integers using __int__ is deprecated, and may be removed in a future version of Python.\n",
      "\n",
      "D:\\Anaconda\\Lib\\site-packages\\torch\\optim\\lr_scheduler.py:271: UserWarning:\n",
      "\n",
      "To get the last learning rate computed by the scheduler, please use `get_last_lr()`.\n",
      "\n"
     ]
    },
    {
     "name": "stdout",
     "output_type": "stream",
     "text": [
      "Epoch 6/50 - Loss: 0.5881 - Val Loss: 0.5807 - Train Acc: 0.9645 - Val Acc: 0.9708 - Precision: 0.9704 - Recall: 0.9711 - F1: 0.9706 - lr: 0.000044\n"
     ]
    },
    {
     "data": {
      "application/vnd.jupyter.widget-view+json": {
       "model_id": "d8b932bd3dd34ce78955d6c21d0fe6a6",
       "version_major": 2,
       "version_minor": 0
      },
      "text/plain": [
       "  0%|          | 0/762 [00:00<?, ?it/s]"
      ]
     },
     "metadata": {},
     "output_type": "display_data"
    },
    {
     "name": "stderr",
     "output_type": "stream",
     "text": [
      "C:\\Users\\Hero Stephen\\AppData\\Local\\Temp\\ipykernel_20400\\3088427532.py:20: DeprecationWarning:\n",
      "\n",
      "an integer is required (got type numpy.float64).  Implicit conversion to integers using __int__ is deprecated, and may be removed in a future version of Python.\n",
      "\n",
      "D:\\Anaconda\\Lib\\site-packages\\torch\\optim\\lr_scheduler.py:271: UserWarning:\n",
      "\n",
      "To get the last learning rate computed by the scheduler, please use `get_last_lr()`.\n",
      "\n"
     ]
    },
    {
     "name": "stdout",
     "output_type": "stream",
     "text": [
      "Epoch 7/50 - Loss: 0.5793 - Val Loss: 0.5767 - Train Acc: 0.9729 - Val Acc: 0.9753 - Precision: 0.9748 - Recall: 0.9753 - F1: 0.9750 - lr: 0.000043\n"
     ]
    },
    {
     "data": {
      "application/vnd.jupyter.widget-view+json": {
       "model_id": "9bf6496cfec945f58a36d6a6534da392",
       "version_major": 2,
       "version_minor": 0
      },
      "text/plain": [
       "  0%|          | 0/762 [00:00<?, ?it/s]"
      ]
     },
     "metadata": {},
     "output_type": "display_data"
    },
    {
     "name": "stderr",
     "output_type": "stream",
     "text": [
      "C:\\Users\\Hero Stephen\\AppData\\Local\\Temp\\ipykernel_20400\\3088427532.py:20: DeprecationWarning:\n",
      "\n",
      "an integer is required (got type numpy.float64).  Implicit conversion to integers using __int__ is deprecated, and may be removed in a future version of Python.\n",
      "\n",
      "D:\\Anaconda\\Lib\\site-packages\\torch\\optim\\lr_scheduler.py:271: UserWarning:\n",
      "\n",
      "To get the last learning rate computed by the scheduler, please use `get_last_lr()`.\n",
      "\n"
     ]
    },
    {
     "name": "stdout",
     "output_type": "stream",
     "text": [
      "Epoch 8/50 - Loss: 0.5744 - Val Loss: 0.5720 - Train Acc: 0.9776 - Val Acc: 0.9799 - Precision: 0.9799 - Recall: 0.9796 - F1: 0.9797 - lr: 0.000042\n"
     ]
    },
    {
     "data": {
      "application/vnd.jupyter.widget-view+json": {
       "model_id": "01f1110a493d4a0481fed95dd4233223",
       "version_major": 2,
       "version_minor": 0
      },
      "text/plain": [
       "  0%|          | 0/762 [00:00<?, ?it/s]"
      ]
     },
     "metadata": {},
     "output_type": "display_data"
    },
    {
     "name": "stderr",
     "output_type": "stream",
     "text": [
      "C:\\Users\\Hero Stephen\\AppData\\Local\\Temp\\ipykernel_20400\\3088427532.py:20: DeprecationWarning:\n",
      "\n",
      "an integer is required (got type numpy.float64).  Implicit conversion to integers using __int__ is deprecated, and may be removed in a future version of Python.\n",
      "\n",
      "D:\\Anaconda\\Lib\\site-packages\\torch\\optim\\lr_scheduler.py:271: UserWarning:\n",
      "\n",
      "To get the last learning rate computed by the scheduler, please use `get_last_lr()`.\n",
      "\n"
     ]
    },
    {
     "name": "stdout",
     "output_type": "stream",
     "text": [
      "Epoch 9/50 - Loss: 0.5691 - Val Loss: 0.5673 - Train Acc: 0.9827 - Val Acc: 0.9841 - Precision: 0.9840 - Recall: 0.9841 - F1: 0.9840 - lr: 0.000041\n"
     ]
    },
    {
     "data": {
      "application/vnd.jupyter.widget-view+json": {
       "model_id": "96cb4ba47dbb471ba96ece8439cf3526",
       "version_major": 2,
       "version_minor": 0
      },
      "text/plain": [
       "  0%|          | 0/762 [00:00<?, ?it/s]"
      ]
     },
     "metadata": {},
     "output_type": "display_data"
    },
    {
     "name": "stderr",
     "output_type": "stream",
     "text": [
      "C:\\Users\\Hero Stephen\\AppData\\Local\\Temp\\ipykernel_20400\\3088427532.py:20: DeprecationWarning:\n",
      "\n",
      "an integer is required (got type numpy.float64).  Implicit conversion to integers using __int__ is deprecated, and may be removed in a future version of Python.\n",
      "\n",
      "D:\\Anaconda\\Lib\\site-packages\\torch\\optim\\lr_scheduler.py:271: UserWarning:\n",
      "\n",
      "To get the last learning rate computed by the scheduler, please use `get_last_lr()`.\n",
      "\n"
     ]
    },
    {
     "name": "stdout",
     "output_type": "stream",
     "text": [
      "Epoch 10/50 - Loss: 0.5672 - Val Loss: 0.5659 - Train Acc: 0.9846 - Val Acc: 0.9856 - Precision: 0.9855 - Recall: 0.9855 - F1: 0.9855 - lr: 0.000040\n"
     ]
    },
    {
     "data": {
      "application/vnd.jupyter.widget-view+json": {
       "model_id": "9d12353935cf4ddda664b8c629598e3c",
       "version_major": 2,
       "version_minor": 0
      },
      "text/plain": [
       "  0%|          | 0/762 [00:00<?, ?it/s]"
      ]
     },
     "metadata": {},
     "output_type": "display_data"
    },
    {
     "name": "stderr",
     "output_type": "stream",
     "text": [
      "C:\\Users\\Hero Stephen\\AppData\\Local\\Temp\\ipykernel_20400\\3088427532.py:20: DeprecationWarning:\n",
      "\n",
      "an integer is required (got type numpy.float64).  Implicit conversion to integers using __int__ is deprecated, and may be removed in a future version of Python.\n",
      "\n",
      "D:\\Anaconda\\Lib\\site-packages\\torch\\optim\\lr_scheduler.py:271: UserWarning:\n",
      "\n",
      "To get the last learning rate computed by the scheduler, please use `get_last_lr()`.\n",
      "\n"
     ]
    },
    {
     "name": "stdout",
     "output_type": "stream",
     "text": [
      "Early Stopping\n"
     ]
    }
   ],
   "source": [
    "fit(bigru,train_dataset,val_dataset,batch_size=64)"
   ]
  },
  {
   "cell_type": "code",
   "execution_count": 34,
   "metadata": {},
   "outputs": [
    {
     "data": {
      "application/vnd.jupyter.widget-view+json": {
       "model_id": "00710f5c1ae64559984191436806f60d",
       "version_major": 2,
       "version_minor": 0
      },
      "text/plain": [
       "  0%|          | 0/762 [00:00<?, ?it/s]"
      ]
     },
     "metadata": {},
     "output_type": "display_data"
    },
    {
     "name": "stderr",
     "output_type": "stream",
     "text": [
      "C:\\Users\\Hero Stephen\\AppData\\Local\\Temp\\ipykernel_20400\\3088427532.py:20: DeprecationWarning:\n",
      "\n",
      "an integer is required (got type numpy.float64).  Implicit conversion to integers using __int__ is deprecated, and may be removed in a future version of Python.\n",
      "\n",
      "D:\\Anaconda\\Lib\\site-packages\\torch\\nn\\modules\\conv.py:306: UserWarning:\n",
      "\n",
      "Plan failed with a cudnnException: CUDNN_BACKEND_EXECUTION_PLAN_DESCRIPTOR: cudnnFinalize Descriptor Failed cudnn_status: CUDNN_STATUS_NOT_SUPPORTED (Triggered internally at C:\\actions-runner\\_work\\pytorch\\pytorch\\builder\\windows\\pytorch\\aten\\src\\ATen\\native\\cudnn\\Conv_v8.cpp:919.)\n",
      "\n",
      "D:\\Anaconda\\Lib\\site-packages\\torch\\optim\\lr_scheduler.py:271: UserWarning:\n",
      "\n",
      "To get the last learning rate computed by the scheduler, please use `get_last_lr()`.\n",
      "\n"
     ]
    },
    {
     "name": "stdout",
     "output_type": "stream",
     "text": [
      "Epoch 1/50 - Loss: 0.9778 - Val Loss: 0.7496 - Train Acc: 0.5326 - Val Acc: 0.8349 - Precision: 0.8516 - Recall: 0.8371 - F1: 0.8367 - lr: 0.000049\n"
     ]
    },
    {
     "data": {
      "application/vnd.jupyter.widget-view+json": {
       "model_id": "579db84d3709448293dd32188135e608",
       "version_major": 2,
       "version_minor": 0
      },
      "text/plain": [
       "  0%|          | 0/762 [00:00<?, ?it/s]"
      ]
     },
     "metadata": {},
     "output_type": "display_data"
    },
    {
     "name": "stderr",
     "output_type": "stream",
     "text": [
      "C:\\Users\\Hero Stephen\\AppData\\Local\\Temp\\ipykernel_20400\\3088427532.py:20: DeprecationWarning:\n",
      "\n",
      "an integer is required (got type numpy.float64).  Implicit conversion to integers using __int__ is deprecated, and may be removed in a future version of Python.\n",
      "\n",
      "D:\\Anaconda\\Lib\\site-packages\\torch\\optim\\lr_scheduler.py:271: UserWarning:\n",
      "\n",
      "To get the last learning rate computed by the scheduler, please use `get_last_lr()`.\n",
      "\n"
     ]
    },
    {
     "name": "stdout",
     "output_type": "stream",
     "text": [
      "Epoch 2/50 - Loss: 0.7521 - Val Loss: 0.6535 - Train Acc: 0.7950 - Val Acc: 0.9245 - Precision: 0.9277 - Recall: 0.9258 - F1: 0.9245 - lr: 0.000048\n"
     ]
    },
    {
     "data": {
      "application/vnd.jupyter.widget-view+json": {
       "model_id": "355a03e738a84803be672f058ac56b69",
       "version_major": 2,
       "version_minor": 0
      },
      "text/plain": [
       "  0%|          | 0/762 [00:00<?, ?it/s]"
      ]
     },
     "metadata": {},
     "output_type": "display_data"
    },
    {
     "name": "stderr",
     "output_type": "stream",
     "text": [
      "C:\\Users\\Hero Stephen\\AppData\\Local\\Temp\\ipykernel_20400\\3088427532.py:20: DeprecationWarning:\n",
      "\n",
      "an integer is required (got type numpy.float64).  Implicit conversion to integers using __int__ is deprecated, and may be removed in a future version of Python.\n",
      "\n",
      "D:\\Anaconda\\Lib\\site-packages\\torch\\optim\\lr_scheduler.py:271: UserWarning:\n",
      "\n",
      "To get the last learning rate computed by the scheduler, please use `get_last_lr()`.\n",
      "\n"
     ]
    },
    {
     "name": "stdout",
     "output_type": "stream",
     "text": [
      "Epoch 3/50 - Loss: 0.6725 - Val Loss: 0.6089 - Train Acc: 0.8801 - Val Acc: 0.9609 - Precision: 0.9611 - Recall: 0.9617 - F1: 0.9606 - lr: 0.000047\n"
     ]
    },
    {
     "data": {
      "application/vnd.jupyter.widget-view+json": {
       "model_id": "a0365ba5cd94439ab6a69324ad7b7714",
       "version_major": 2,
       "version_minor": 0
      },
      "text/plain": [
       "  0%|          | 0/762 [00:00<?, ?it/s]"
      ]
     },
     "metadata": {},
     "output_type": "display_data"
    },
    {
     "name": "stderr",
     "output_type": "stream",
     "text": [
      "C:\\Users\\Hero Stephen\\AppData\\Local\\Temp\\ipykernel_20400\\3088427532.py:20: DeprecationWarning:\n",
      "\n",
      "an integer is required (got type numpy.float64).  Implicit conversion to integers using __int__ is deprecated, and may be removed in a future version of Python.\n",
      "\n",
      "D:\\Anaconda\\Lib\\site-packages\\torch\\optim\\lr_scheduler.py:271: UserWarning:\n",
      "\n",
      "To get the last learning rate computed by the scheduler, please use `get_last_lr()`.\n",
      "\n"
     ]
    },
    {
     "name": "stdout",
     "output_type": "stream",
     "text": [
      "Epoch 4/50 - Loss: 0.6313 - Val Loss: 0.5890 - Train Acc: 0.9230 - Val Acc: 0.9745 - Precision: 0.9743 - Recall: 0.9752 - F1: 0.9743 - lr: 0.000046\n"
     ]
    },
    {
     "data": {
      "application/vnd.jupyter.widget-view+json": {
       "model_id": "a36910c324d14a8ebf3d941db2a38ed4",
       "version_major": 2,
       "version_minor": 0
      },
      "text/plain": [
       "  0%|          | 0/762 [00:00<?, ?it/s]"
      ]
     },
     "metadata": {},
     "output_type": "display_data"
    },
    {
     "name": "stderr",
     "output_type": "stream",
     "text": [
      "C:\\Users\\Hero Stephen\\AppData\\Local\\Temp\\ipykernel_20400\\3088427532.py:20: DeprecationWarning:\n",
      "\n",
      "an integer is required (got type numpy.float64).  Implicit conversion to integers using __int__ is deprecated, and may be removed in a future version of Python.\n",
      "\n",
      "D:\\Anaconda\\Lib\\site-packages\\torch\\optim\\lr_scheduler.py:271: UserWarning:\n",
      "\n",
      "To get the last learning rate computed by the scheduler, please use `get_last_lr()`.\n",
      "\n"
     ]
    },
    {
     "name": "stdout",
     "output_type": "stream",
     "text": [
      "Epoch 5/50 - Loss: 0.6068 - Val Loss: 0.5773 - Train Acc: 0.9485 - Val Acc: 0.9839 - Precision: 0.9835 - Recall: 0.9844 - F1: 0.9837 - lr: 0.000045\n"
     ]
    },
    {
     "data": {
      "application/vnd.jupyter.widget-view+json": {
       "model_id": "9e3a1aa876ce4757b014107734a794de",
       "version_major": 2,
       "version_minor": 0
      },
      "text/plain": [
       "  0%|          | 0/762 [00:00<?, ?it/s]"
      ]
     },
     "metadata": {},
     "output_type": "display_data"
    },
    {
     "name": "stderr",
     "output_type": "stream",
     "text": [
      "C:\\Users\\Hero Stephen\\AppData\\Local\\Temp\\ipykernel_20400\\3088427532.py:20: DeprecationWarning:\n",
      "\n",
      "an integer is required (got type numpy.float64).  Implicit conversion to integers using __int__ is deprecated, and may be removed in a future version of Python.\n",
      "\n",
      "D:\\Anaconda\\Lib\\site-packages\\torch\\optim\\lr_scheduler.py:271: UserWarning:\n",
      "\n",
      "To get the last learning rate computed by the scheduler, please use `get_last_lr()`.\n",
      "\n"
     ]
    },
    {
     "name": "stdout",
     "output_type": "stream",
     "text": [
      "Epoch 6/50 - Loss: 0.5914 - Val Loss: 0.5695 - Train Acc: 0.9637 - Val Acc: 0.9908 - Precision: 0.9904 - Recall: 0.9910 - F1: 0.9906 - lr: 0.000044\n"
     ]
    },
    {
     "data": {
      "application/vnd.jupyter.widget-view+json": {
       "model_id": "f8a5122bf7c24470ad85be86a9b1bda9",
       "version_major": 2,
       "version_minor": 0
      },
      "text/plain": [
       "  0%|          | 0/762 [00:00<?, ?it/s]"
      ]
     },
     "metadata": {},
     "output_type": "display_data"
    },
    {
     "name": "stderr",
     "output_type": "stream",
     "text": [
      "C:\\Users\\Hero Stephen\\AppData\\Local\\Temp\\ipykernel_20400\\3088427532.py:20: DeprecationWarning:\n",
      "\n",
      "an integer is required (got type numpy.float64).  Implicit conversion to integers using __int__ is deprecated, and may be removed in a future version of Python.\n",
      "\n",
      "D:\\Anaconda\\Lib\\site-packages\\torch\\optim\\lr_scheduler.py:271: UserWarning:\n",
      "\n",
      "To get the last learning rate computed by the scheduler, please use `get_last_lr()`.\n",
      "\n"
     ]
    },
    {
     "name": "stdout",
     "output_type": "stream",
     "text": [
      "Epoch 7/50 - Loss: 0.5809 - Val Loss: 0.5641 - Train Acc: 0.9738 - Val Acc: 0.9934 - Precision: 0.9930 - Recall: 0.9935 - F1: 0.9932 - lr: 0.000043\n"
     ]
    },
    {
     "data": {
      "application/vnd.jupyter.widget-view+json": {
       "model_id": "04fb4e79338c4445a20de15f444baa21",
       "version_major": 2,
       "version_minor": 0
      },
      "text/plain": [
       "  0%|          | 0/762 [00:00<?, ?it/s]"
      ]
     },
     "metadata": {},
     "output_type": "display_data"
    },
    {
     "name": "stderr",
     "output_type": "stream",
     "text": [
      "C:\\Users\\Hero Stephen\\AppData\\Local\\Temp\\ipykernel_20400\\3088427532.py:20: DeprecationWarning:\n",
      "\n",
      "an integer is required (got type numpy.float64).  Implicit conversion to integers using __int__ is deprecated, and may be removed in a future version of Python.\n",
      "\n",
      "D:\\Anaconda\\Lib\\site-packages\\torch\\optim\\lr_scheduler.py:271: UserWarning:\n",
      "\n",
      "To get the last learning rate computed by the scheduler, please use `get_last_lr()`.\n",
      "\n"
     ]
    },
    {
     "name": "stdout",
     "output_type": "stream",
     "text": [
      "Epoch 8/50 - Loss: 0.5736 - Val Loss: 0.5606 - Train Acc: 0.9809 - Val Acc: 0.9956 - Precision: 0.9953 - Recall: 0.9957 - F1: 0.9955 - lr: 0.000042\n"
     ]
    },
    {
     "data": {
      "application/vnd.jupyter.widget-view+json": {
       "model_id": "8850050189c8483389356ebeb6c28c07",
       "version_major": 2,
       "version_minor": 0
      },
      "text/plain": [
       "  0%|          | 0/762 [00:00<?, ?it/s]"
      ]
     },
     "metadata": {},
     "output_type": "display_data"
    },
    {
     "name": "stderr",
     "output_type": "stream",
     "text": [
      "C:\\Users\\Hero Stephen\\AppData\\Local\\Temp\\ipykernel_20400\\3088427532.py:20: DeprecationWarning:\n",
      "\n",
      "an integer is required (got type numpy.float64).  Implicit conversion to integers using __int__ is deprecated, and may be removed in a future version of Python.\n",
      "\n",
      "D:\\Anaconda\\Lib\\site-packages\\torch\\optim\\lr_scheduler.py:271: UserWarning:\n",
      "\n",
      "To get the last learning rate computed by the scheduler, please use `get_last_lr()`.\n",
      "\n"
     ]
    },
    {
     "name": "stdout",
     "output_type": "stream",
     "text": [
      "Epoch 9/50 - Loss: 0.5686 - Val Loss: 0.5585 - Train Acc: 0.9860 - Val Acc: 0.9976 - Precision: 0.9975 - Recall: 0.9977 - F1: 0.9976 - lr: 0.000041\n"
     ]
    },
    {
     "data": {
      "application/vnd.jupyter.widget-view+json": {
       "model_id": "9f2b063122fb4baebfa660e6c81fe685",
       "version_major": 2,
       "version_minor": 0
      },
      "text/plain": [
       "  0%|          | 0/762 [00:00<?, ?it/s]"
      ]
     },
     "metadata": {},
     "output_type": "display_data"
    },
    {
     "name": "stderr",
     "output_type": "stream",
     "text": [
      "C:\\Users\\Hero Stephen\\AppData\\Local\\Temp\\ipykernel_20400\\3088427532.py:20: DeprecationWarning:\n",
      "\n",
      "an integer is required (got type numpy.float64).  Implicit conversion to integers using __int__ is deprecated, and may be removed in a future version of Python.\n",
      "\n",
      "D:\\Anaconda\\Lib\\site-packages\\torch\\optim\\lr_scheduler.py:271: UserWarning:\n",
      "\n",
      "To get the last learning rate computed by the scheduler, please use `get_last_lr()`.\n",
      "\n"
     ]
    },
    {
     "name": "stdout",
     "output_type": "stream",
     "text": [
      "Epoch 10/50 - Loss: 0.5647 - Val Loss: 0.5578 - Train Acc: 0.9894 - Val Acc: 0.9982 - Precision: 0.9981 - Recall: 0.9982 - F1: 0.9981 - lr: 0.000040\n"
     ]
    },
    {
     "data": {
      "application/vnd.jupyter.widget-view+json": {
       "model_id": "335164b452c244a2817de6e3083bf374",
       "version_major": 2,
       "version_minor": 0
      },
      "text/plain": [
       "  0%|          | 0/762 [00:00<?, ?it/s]"
      ]
     },
     "metadata": {},
     "output_type": "display_data"
    },
    {
     "name": "stderr",
     "output_type": "stream",
     "text": [
      "C:\\Users\\Hero Stephen\\AppData\\Local\\Temp\\ipykernel_20400\\3088427532.py:20: DeprecationWarning:\n",
      "\n",
      "an integer is required (got type numpy.float64).  Implicit conversion to integers using __int__ is deprecated, and may be removed in a future version of Python.\n",
      "\n",
      "D:\\Anaconda\\Lib\\site-packages\\torch\\optim\\lr_scheduler.py:271: UserWarning:\n",
      "\n",
      "To get the last learning rate computed by the scheduler, please use `get_last_lr()`.\n",
      "\n"
     ]
    },
    {
     "name": "stdout",
     "output_type": "stream",
     "text": [
      "Early Stopping\n"
     ]
    }
   ],
   "source": [
    "fit(cnn,train_dataset,val_dataset,batch_size=64)"
   ]
  },
  {
   "cell_type": "code",
   "execution_count": 36,
   "metadata": {},
   "outputs": [
    {
     "name": "stderr",
     "output_type": "stream",
     "text": [
      "C:\\Users\\Hero Stephen\\AppData\\Local\\Temp\\ipykernel_20400\\3088427532.py:20: DeprecationWarning:\n",
      "\n",
      "an integer is required (got type numpy.float64).  Implicit conversion to integers using __int__ is deprecated, and may be removed in a future version of Python.\n",
      "\n"
     ]
    },
    {
     "ename": "RuntimeError",
     "evalue": "The size of tensor a (3) must match the size of tensor b (64) at non-singleton dimension 1",
     "output_type": "error",
     "traceback": [
      "\u001b[1;31m---------------------------------------------------------------------------\u001b[0m",
      "\u001b[1;31mRuntimeError\u001b[0m                              Traceback (most recent call last)",
      "\u001b[1;32m~\\AppData\\Local\\Temp\\ipykernel_20400\\1200898418.py\u001b[0m in \u001b[0;36m<module>\u001b[1;34m\u001b[0m\n\u001b[0;32m     16\u001b[0m     \u001b[0mlabels\u001b[0m\u001b[1;33m.\u001b[0m\u001b[0mextend\u001b[0m\u001b[1;33m(\u001b[0m\u001b[0my\u001b[0m\u001b[1;33m.\u001b[0m\u001b[0mcpu\u001b[0m\u001b[1;33m(\u001b[0m\u001b[1;33m)\u001b[0m\u001b[1;33m.\u001b[0m\u001b[0mnumpy\u001b[0m\u001b[1;33m(\u001b[0m\u001b[1;33m)\u001b[0m\u001b[1;33m)\u001b[0m\u001b[1;33m\u001b[0m\u001b[1;33m\u001b[0m\u001b[0m\n\u001b[0;32m     17\u001b[0m \u001b[1;33m\u001b[0m\u001b[0m\n\u001b[1;32m---> 18\u001b[1;33m     \u001b[0mtest_correct\u001b[0m \u001b[1;33m+=\u001b[0m \u001b[0my_preds\u001b[0m\u001b[1;33m.\u001b[0m\u001b[0meq\u001b[0m\u001b[1;33m(\u001b[0m\u001b[0my\u001b[0m\u001b[1;33m)\u001b[0m\u001b[1;33m.\u001b[0m\u001b[0msum\u001b[0m\u001b[1;33m(\u001b[0m\u001b[1;33m)\u001b[0m\u001b[1;33m.\u001b[0m\u001b[0mitem\u001b[0m\u001b[1;33m(\u001b[0m\u001b[1;33m)\u001b[0m\u001b[1;33m\u001b[0m\u001b[1;33m\u001b[0m\u001b[0m\n\u001b[0m\u001b[0;32m     19\u001b[0m \u001b[1;33m\u001b[0m\u001b[0m\n\u001b[0;32m     20\u001b[0m \u001b[0mval_acc\u001b[0m \u001b[1;33m=\u001b[0m \u001b[0mtest_correct\u001b[0m \u001b[1;33m/\u001b[0m \u001b[0mlen\u001b[0m\u001b[1;33m(\u001b[0m\u001b[0mtest_dataloader\u001b[0m\u001b[1;33m.\u001b[0m\u001b[0mdataset\u001b[0m\u001b[1;33m)\u001b[0m\u001b[1;33m\u001b[0m\u001b[1;33m\u001b[0m\u001b[0m\n",
      "\u001b[1;31mRuntimeError\u001b[0m: The size of tensor a (3) must match the size of tensor b (64) at non-singleton dimension 1"
     ]
    }
   ],
   "source": [
    "preds_bigru_cnn=[]\n",
    "preds_cnn=[]\n",
    "preds_bilstm=[]\n",
    "preds_bigru=[]\n",
    "labels=[]\n",
    "test_correct=0\n",
    "device=torch.device('cuda')\n",
    "test_dataloader=DataLoader(test_dataset,batch_size=64,shuffle=False)\n",
    "\n",
    "\n",
    "for input_id,token,attention,y in test_dataloader:\n",
    "    input_id,token,attention=input_id.to(device),token.to(device),attention.to(device)\n",
    "\n",
    "    y_preds=model(input_id,token,attention)\n",
    "    preds_bigru_cnn.append(y_preds)\n",
    "    labels.extend(y.cpu().numpy())\n",
    "\n",
    "    test_correct += y_preds.eq(y).sum().item()\n",
    "\n",
    "val_acc = test_correct / len(test_dataloader.dataset)\n",
    "precision = precision_score(labels, preds_bigru_cnn, average='macro')\n",
    "recall = recall_score(labels, preds_bigru_cnn, average='macro')\n",
    "f1 = f1_score(labels, preds_bigru_cnn, average='macro')\n",
    "\n",
    "\n",
    "\n",
    "print(\n",
    "        f'ACC: {val_acc:.4f} - Precision: {precision:.4f} - Recall: {recall:.4f} - F1: {f1:.4f}')\n",
    "\n",
    "test_correct=0\n",
    "\n",
    "for input_id,token,attention,y in test_dataloader:\n",
    "    input_id,token,attention=input_id.to(device),token.to(device),attention.to(device)\n",
    "\n",
    "    y_preds=cnn(input_id,token,attention)\n",
    "    preds_cnn.append(y_preds)\n",
    "    labels.extend(y.cpu().numpy())\n",
    "\n",
    "    test_correct += y_preds.eq(y).sum().item()\n",
    "\n",
    "val_acc = test_correct / len(test_dataloader.dataset)\n",
    "precision = precision_score(labels, preds_cnn, average='macro')\n",
    "recall = recall_score(labels, preds_cnn, average='macro')\n",
    "f1 = f1_score(labels, preds_cnn, average='macro')\n",
    "\n",
    "\n",
    "\n",
    "print(\n",
    "        f'ACC: {val_acc:.4f} - Precision: {precision:.4f} - Recall: {recall:.4f} - F1: {f1:.4f}')\n",
    "\n",
    "test_correct=0\n",
    "\n",
    "for input_id,token,attention,y in test_dataloader:\n",
    "    input_id,token,attention=input_id.to(device),token.to(device),attention.to(device)\n",
    "\n",
    "    y_preds=bilstm(input_id,token,attention)\n",
    "    preds_bilstm.append(y_preds)\n",
    "    labels.extend(y.cpu().numpy())\n",
    "\n",
    "    test_correct += y_preds.eq(y).sum().item()\n",
    "\n",
    "val_acc = test_correct / len(test_dataloader.dataset)\n",
    "precision = precision_score(labels, preds_bilstm, average='macro')\n",
    "recall = recall_score(labels, preds_bilstm, average='macro')\n",
    "f1 = f1_score(labels, preds_bilstm, average='macro')\n",
    "\n",
    "\n",
    "\n",
    "print(\n",
    "        f'ACC: {val_acc:.4f} - Precision: {precision:.4f} - Recall: {recall:.4f} - F1: {f1:.4f}')\n",
    "\n",
    "\n",
    "test_correct=0\n",
    "\n",
    "for input_id,token,attention,y in test_dataloader:\n",
    "    input_id,token,attention=input_id.to(device),token.to(device),attention.to(device)\n",
    "\n",
    "    y_preds=bigru(input_id,token,attention)\n",
    "    preds_bigru.append(y_preds)\n",
    "    labels.extend(y.cpu().numpy())\n",
    "\n",
    "    test_correct += y_preds.eq(y).sum().item()\n",
    "\n",
    "val_acc = test_correct / len(test_dataloader.dataset)\n",
    "precision = precision_score(labels, preds_bigru, average='macro')\n",
    "recall = recall_score(labels, preds_bigru, average='macro')\n",
    "f1 = f1_score(labels, preds_bigru, average='macro')\n",
    "\n",
    "\n",
    "\n",
    "print(\n",
    "        f'ACC: {val_acc:.4f} - Precision: {precision:.4f} - Recall: {recall:.4f} - F1: {f1:.4f}')\n"
   ]
  },
  {
   "cell_type": "code",
   "execution_count": 40,
   "metadata": {},
   "outputs": [],
   "source": [
    "import torch\n",
    "\n",
    "preds_bigru_cnn = torch.cat(preds_bigru_cnn, dim=0).detach().cpu().numpy()\n",
    "preds_cnn = torch.cat(preds_cnn, dim=0).detach().cpu().numpy()\n",
    "preds_bigru= torch.cat(preds_bigru, dim=0).detach().cpu().numpy()\n",
    "preds_bilstm = torch.cat(preds_bilstm, dim=0).detach().cpu().numpy()"
   ]
  },
  {
   "cell_type": "code",
   "execution_count": 74,
   "metadata": {},
   "outputs": [],
   "source": [
    "from sklearn.preprocessing import label_binarize\n",
    "def network_roc_auc_onestep(y,y_pred_proba,num_classes,title):\n",
    "   \n",
    "    y=label_binarize(y,classes=[0,1,2])\n",
    "   \n",
    "    \n",
    "    fpr=dict()\n",
    "    tpr=dict()\n",
    "    roc_auc_score=dict()\n",
    "    for i in range(num_classes):\n",
    "        fpr[i],tpr[i],_=roc_curve(y[:,i],y_pred_proba[:,i])\n",
    "        roc_auc_score[i]=auc(fpr[i],tpr[i])\n",
    "    \n",
    "    fpr['micro'],tpr['micro'],_=roc_curve(y.ravel(),y_pred_proba.ravel())\n",
    "    roc_auc_score['micro']=auc(fpr['micro'],tpr['micro'])\n",
    "    \n",
    "    #macro\n",
    "    all_fpr = np.unique(np.concatenate([fpr[i] for i in range(num_classes)]))#计算出不同的假正率\n",
    "\n",
    "    mean_tpr = np.zeros_like(all_fpr)\n",
    "    for i in range(num_classes):\n",
    "        mean_tpr += np.interp(all_fpr, fpr[i], tpr[i])#确保在不同的假正率下得到平均的tpr\n",
    "\n",
    "        \n",
    "    mean_tpr /= num_classes\n",
    "\n",
    "    fpr[\"macro\"] = all_fpr\n",
    "    tpr[\"macro\"] = mean_tpr\n",
    "    roc_auc_score[\"macro\"] = auc(fpr[\"macro\"], tpr[\"macro\"])\n",
    "    for i in range(num_classes):\n",
    "        plt.plot(fpr[i],tpr[i],label=f'{i} class')\n",
    "    plt.plot(fpr['micro'],tpr['micro'],label='micro-value')\n",
    "    plt.plot(fpr['macro'],tpr['macro'],label='macro-value')\n",
    "    plt.plot([0,1],[0,1],ls=':')\n",
    "    plt.legend(loc='best')\n",
    "    plt.xlabel('fpr',color='k',fontsize=10,fontweight='bold')\n",
    "    plt.ylabel('tpr',color='k',fontsize=10,fontweight='bold')\n",
    "    plt.title(title,fontdict={'size':15,'weight':'bold'})\n",
    "    plt.savefig(f'{title}.png')\n",
    "    plt.show()\n",
    "    \n",
    "    return fpr,tpr,roc_auc_score"
   ]
  },
  {
   "cell_type": "code",
   "execution_count": 80,
   "metadata": {},
   "outputs": [
    {
     "data": {
      "image/png": "[encoded data removed]",
      "text/plain": [
       "<Figure size 640x480 with 1 Axes>"
      ]
     },
     "metadata": {},
     "output_type": "display_data"
    }
   ],
   "source": [
    "bigru_cnn_fpr,bigru_cnn_tpr,bigru_cnn_roc=network_roc_auc_onestep(df_test['class'],preds_bigru_cnn,num_classes=3,title='BERT-BiGRU-CNN ROC CURVE')"
   ]
  },
  {
   "cell_type": "code",
   "execution_count": 81,
   "metadata": {},
   "outputs": [
    {
     "data": {
      "image/png": "[encoded data removed]",
      "text/plain": [
       "<Figure size 640x480 with 1 Axes>"
      ]
     },
     "metadata": {},
     "output_type": "display_data"
    }
   ],
   "source": [
    "\n",
    "cnn_fpr,cnn_tpr,cnn_roc=network_roc_auc_onestep(df_test['class'],preds_cnn,num_classes=3,title='BERT-CNN ROC CURVE')\n"
   ]
  },
  {
   "cell_type": "code",
   "execution_count": 1,
   "metadata": {},
   "outputs": [],
   "source": [
    "def network_confusion_matrix(y_test,y_pred,title):\n",
    "    y_pred_index=np.argmax(y_pred,axis=1)\n",
    "    cm_test=confusion_matrix(y_test,y_pred_index)\n",
    "    cm_test=pd.DataFrame(cm_test,index=['irony','regular','sarcasm'],columns=['irony','regular','sarcasm'])\n",
    "    plt.figure(figsize=(6,6),dpi=120)\n",
    "    sns.heatmap(cm_test,annot=True,annot_kws={'size':8},cmap='PuBu',fmt='.1f')\n",
    "    plt.yticks(rotation=90)\n",
    "    plt.ylabel('True label',fontweight='bold')\n",
    "    plt.xlabel('Predicted label',fontweight='bold')\n",
    "    plt.title(title,fontweight='bold')\n",
    "    plt.savefig(f'{title}.png')\n",
    "    \n",
    "    \n",
    "    plt.show()"
   ]
  },
  {
   "cell_type": "code",
   "execution_count": 41,
   "metadata": {},
   "outputs": [
    {
     "data": {
      "image/png": "[encoded data removed]",
      "text/plain": [
       "<Figure size 720x720 with 2 Axes>"
      ]
     },
     "metadata": {},
     "output_type": "display_data"
    }
   ],
   "source": [
    "network_confusion_matrix(df_test['class'],preds_bigru_cnn,'BERT-BiGRU-CNN')"
   ]
  },
  {
   "cell_type": "code",
   "execution_count": 42,
   "metadata": {},
   "outputs": [
    {
     "data": {
      "image/png": "[encoded data removed]",
      "text/plain": [
       "<Figure size 720x720 with 2 Axes>"
      ]
     },
     "metadata": {},
     "output_type": "display_data"
    }
   ],
   "source": [
    "network_confusion_matrix(df_test['class'],preds_cnn,'BERT-CNN')"
   ]
  },
  {
   "cell_type": "code",
   "execution_count": 43,
   "metadata": {},
   "outputs": [
    {
     "data": {
      "image/png": "[encoded data removed]",
      "text/plain": [
       "<Figure size 720x720 with 2 Axes>"
      ]
     },
     "metadata": {},
     "output_type": "display_data"
    }
   ],
   "source": [
    "network_confusion_matrix(df_test['class'],preds_bigru,'BERT-BiGRU')"
   ]
  },
  {
   "cell_type": "code",
   "execution_count": 44,
   "metadata": {},
   "outputs": [
    {
     "data": {
      "image/png": "[encoded data removed]",
      "text/plain": [
       "<Figure size 720x720 with 2 Axes>"
      ]
     },
     "metadata": {},
     "output_type": "display_data"
    }
   ],
   "source": [
    "network_confusion_matrix(df_test['class'],preds_bilstm,'BERT-BiLSTM')"
   ]
  },
  {
   "cell_type": "code",
   "execution_count": 45,
   "metadata": {},
   "outputs": [
    {
     "data": {
      "text/html": [
       "<div>\n",
       "<style scoped>\n",
       "    .dataframe tbody tr th:only-of-type {\n",
       "        vertical-align: middle;\n",
       "    }\n",
       "\n",
       "    .dataframe tbody tr th {\n",
       "        vertical-align: top;\n",
       "    }\n",
       "\n",
       "    .dataframe thead th {\n",
       "        text-align: right;\n",
       "    }\n",
       "</style>\n",
       "<table border=\"1\" class=\"dataframe\">\n",
       "  <thead>\n",
       "    <tr style=\"text-align: right;\">\n",
       "      <th></th>\n",
       "      <th>tweets</th>\n",
       "      <th>class</th>\n",
       "      <th>clean_text</th>\n",
       "      <th>input_word_ids</th>\n",
       "      <th>attention_mask</th>\n",
       "      <th>token_type_ids</th>\n",
       "    </tr>\n",
       "  </thead>\n",
       "  <tbody>\n",
       "    <tr>\n",
       "      <th>50715</th>\n",
       "      <td>Woke up to a fight with my sisters. Yay, relat...</td>\n",
       "      <td>2.0</td>\n",
       "      <td>Woke fight sister Yay relationship sarcasm</td>\n",
       "      <td>[101, 8271, 2954, 2905, 8038, 2100, 3276, 2095...</td>\n",
       "      <td>[1, 1, 1, 1, 1, 1, 1, 1, 1, 0, 0, 0, 0, 0, 0, ...</td>\n",
       "      <td>[0, 0, 0, 0, 0, 0, 0, 0, 0, 0, 0, 0, 0, 0, 0, ...</td>\n",
       "    </tr>\n",
       "    <tr>\n",
       "      <th>37979</th>\n",
       "      <td>@SobtianHameshaa aur Jisko nahi karna wo ignor...</td>\n",
       "      <td>1.0</td>\n",
       "      <td>SobtianHameshaa aur Jisko nahi karna wo ignore...</td>\n",
       "      <td>[101, 17540, 10772, 3511, 9953, 11057, 8740, 2...</td>\n",
       "      <td>[1, 1, 1, 1, 1, 1, 1, 1, 1, 1, 1, 1, 1, 1, 1, ...</td>\n",
       "      <td>[0, 0, 0, 0, 0, 0, 0, 0, 0, 0, 0, 0, 0, 0, 0, ...</td>\n",
       "    </tr>\n",
       "    <tr>\n",
       "      <th>12880</th>\n",
       "      <td>Cracks me up when I hear Kim Kardashian say \"N...</td>\n",
       "      <td>0.0</td>\n",
       "      <td>Cracks I hear Kim Kardashian say North best ba...</td>\n",
       "      <td>[101, 15288, 1045, 2963, 5035, 10556, 13639, 6...</td>\n",
       "      <td>[1, 1, 1, 1, 1, 1, 1, 1, 1, 1, 1, 1, 1, 1, 1, ...</td>\n",
       "      <td>[0, 0, 0, 0, 0, 0, 0, 0, 0, 0, 0, 0, 0, 0, 0, ...</td>\n",
       "    </tr>\n",
       "    <tr>\n",
       "      <th>36517</th>\n",
       "      <td>@DonnieWahlberg love \"your\" affirmations! Just...</td>\n",
       "      <td>1.0</td>\n",
       "      <td>DonnieWahlberg love affirmation Just didnt com...</td>\n",
       "      <td>[101, 28486, 4213, 7317, 4059, 2293, 21358, 27...</td>\n",
       "      <td>[1, 1, 1, 1, 1, 1, 1, 1, 1, 1, 1, 1, 1, 1, 1, ...</td>\n",
       "      <td>[0, 0, 0, 0, 0, 0, 0, 0, 0, 0, 0, 0, 0, 0, 0, ...</td>\n",
       "    </tr>\n",
       "    <tr>\n",
       "      <th>57089</th>\n",
       "      <td>Despite the cost of living, have you noticed h...</td>\n",
       "      <td>2.0</td>\n",
       "      <td>Despite cost living noticed popular remains fu...</td>\n",
       "      <td>[101, 2750, 3465, 2542, 4384, 2759, 3464, 6057...</td>\n",
       "      <td>[1, 1, 1, 1, 1, 1, 1, 1, 1, 1, 0, 0, 0, 0, 0, ...</td>\n",
       "      <td>[0, 0, 0, 0, 0, 0, 0, 0, 0, 0, 0, 0, 0, 0, 0, ...</td>\n",
       "    </tr>\n",
       "    <tr>\n",
       "      <th>...</th>\n",
       "      <td>...</td>\n",
       "      <td>...</td>\n",
       "      <td>...</td>\n",
       "      <td>...</td>\n",
       "      <td>...</td>\n",
       "      <td>...</td>\n",
       "    </tr>\n",
       "    <tr>\n",
       "      <th>22719</th>\n",
       "      <td>Going bowling with @jacob2212 later today, goi...</td>\n",
       "      <td>1.0</td>\n",
       "      <td>Going bowling jacob later today going sleep bi...</td>\n",
       "      <td>[101, 2183, 9116, 6213, 2101, 2651, 2183, 3637...</td>\n",
       "      <td>[1, 1, 1, 1, 1, 1, 1, 1, 1, 1, 1, 1, 0, 0, 0, ...</td>\n",
       "      <td>[0, 0, 0, 0, 0, 0, 0, 0, 0, 0, 0, 0, 0, 0, 0, ...</td>\n",
       "    </tr>\n",
       "    <tr>\n",
       "      <th>16940</th>\n",
       "      <td>@RichardDawkins it was so to not offend anyone...</td>\n",
       "      <td>0.0</td>\n",
       "      <td>RichardDawkins offend anyone I guess irony</td>\n",
       "      <td>[101, 2957, 2850, 26291, 7076, 2125, 10497, 30...</td>\n",
       "      <td>[1, 1, 1, 1, 1, 1, 1, 1, 1, 1, 1, 1, 0, 0, 0, ...</td>\n",
       "      <td>[0, 0, 0, 0, 0, 0, 0, 0, 0, 0, 0, 0, 0, 0, 0, ...</td>\n",
       "    </tr>\n",
       "    <tr>\n",
       "      <th>7679</th>\n",
       "      <td>@Cla_Cottingham so hoping someone was behind t...</td>\n",
       "      <td>0.0</td>\n",
       "      <td>ClaCottingham hoping someone behind taking pic...</td>\n",
       "      <td>[101, 18856, 22684, 13027, 3511, 5327, 2619, 2...</td>\n",
       "      <td>[1, 1, 1, 1, 1, 1, 1, 1, 1, 1, 1, 1, 1, 1, 1, ...</td>\n",
       "      <td>[0, 0, 0, 0, 0, 0, 0, 0, 0, 0, 0, 0, 0, 0, 0, ...</td>\n",
       "    </tr>\n",
       "    <tr>\n",
       "      <th>12289</th>\n",
       "      <td>MyPOV: that was fun. first time i had to updat...</td>\n",
       "      <td>0.0</td>\n",
       "      <td>MyPOV fun first time update resume year nonpro...</td>\n",
       "      <td>[101, 2026, 6873, 2615, 4569, 2034, 2051, 1065...</td>\n",
       "      <td>[1, 1, 1, 1, 1, 1, 1, 1, 1, 1, 1, 1, 1, 1, 1, ...</td>\n",
       "      <td>[0, 0, 0, 0, 0, 0, 0, 0, 0, 0, 0, 0, 0, 0, 0, ...</td>\n",
       "    </tr>\n",
       "    <tr>\n",
       "      <th>11722</th>\n",
       "      <td>Olive Oyl must have been a hell of a lay, beca...</td>\n",
       "      <td>0.0</td>\n",
       "      <td>Olive Oyl must hell lay even nothing look dept...</td>\n",
       "      <td>[101, 9724, 1051, 8516, 2442, 3109, 3913, 2130...</td>\n",
       "      <td>[1, 1, 1, 1, 1, 1, 1, 1, 1, 1, 1, 1, 1, 1, 1, ...</td>\n",
       "      <td>[0, 0, 0, 0, 0, 0, 0, 0, 0, 0, 0, 0, 0, 0, 0, ...</td>\n",
       "    </tr>\n",
       "  </tbody>\n",
       "</table>\n",
       "<p>6017 rows × 6 columns</p>\n",
       "</div>"
      ],
      "text/plain": [
       "                                                  tweets  class  \\\n",
       "50715  Woke up to a fight with my sisters. Yay, relat...    2.0   \n",
       "37979  @SobtianHameshaa aur Jisko nahi karna wo ignor...    1.0   \n",
       "12880  Cracks me up when I hear Kim Kardashian say \"N...    0.0   \n",
       "36517  @DonnieWahlberg love \"your\" affirmations! Just...    1.0   \n",
       "57089  Despite the cost of living, have you noticed h...    2.0   \n",
       "...                                                  ...    ...   \n",
       "22719  Going bowling with @jacob2212 later today, goi...    1.0   \n",
       "16940  @RichardDawkins it was so to not offend anyone...    0.0   \n",
       "7679   @Cla_Cottingham so hoping someone was behind t...    0.0   \n",
       "12289  MyPOV: that was fun. first time i had to updat...    0.0   \n",
       "11722  Olive Oyl must have been a hell of a lay, beca...    0.0   \n",
       "\n",
       "                                              clean_text  \\\n",
       "50715         Woke fight sister Yay relationship sarcasm   \n",
       "37979  SobtianHameshaa aur Jisko nahi karna wo ignore...   \n",
       "12880  Cracks I hear Kim Kardashian say North best ba...   \n",
       "36517  DonnieWahlberg love affirmation Just didnt com...   \n",
       "57089  Despite cost living noticed popular remains fu...   \n",
       "...                                                  ...   \n",
       "22719  Going bowling jacob later today going sleep bi...   \n",
       "16940         RichardDawkins offend anyone I guess irony   \n",
       "7679   ClaCottingham hoping someone behind taking pic...   \n",
       "12289  MyPOV fun first time update resume year nonpro...   \n",
       "11722  Olive Oyl must hell lay even nothing look dept...   \n",
       "\n",
       "                                          input_word_ids  \\\n",
       "50715  [101, 8271, 2954, 2905, 8038, 2100, 3276, 2095...   \n",
       "37979  [101, 17540, 10772, 3511, 9953, 11057, 8740, 2...   \n",
       "12880  [101, 15288, 1045, 2963, 5035, 10556, 13639, 6...   \n",
       "36517  [101, 28486, 4213, 7317, 4059, 2293, 21358, 27...   \n",
       "57089  [101, 2750, 3465, 2542, 4384, 2759, 3464, 6057...   \n",
       "...                                                  ...   \n",
       "22719  [101, 2183, 9116, 6213, 2101, 2651, 2183, 3637...   \n",
       "16940  [101, 2957, 2850, 26291, 7076, 2125, 10497, 30...   \n",
       "7679   [101, 18856, 22684, 13027, 3511, 5327, 2619, 2...   \n",
       "12289  [101, 2026, 6873, 2615, 4569, 2034, 2051, 1065...   \n",
       "11722  [101, 9724, 1051, 8516, 2442, 3109, 3913, 2130...   \n",
       "\n",
       "                                          attention_mask  \\\n",
       "50715  [1, 1, 1, 1, 1, 1, 1, 1, 1, 0, 0, 0, 0, 0, 0, ...   \n",
       "37979  [1, 1, 1, 1, 1, 1, 1, 1, 1, 1, 1, 1, 1, 1, 1, ...   \n",
       "12880  [1, 1, 1, 1, 1, 1, 1, 1, 1, 1, 1, 1, 1, 1, 1, ...   \n",
       "36517  [1, 1, 1, 1, 1, 1, 1, 1, 1, 1, 1, 1, 1, 1, 1, ...   \n",
       "57089  [1, 1, 1, 1, 1, 1, 1, 1, 1, 1, 0, 0, 0, 0, 0, ...   \n",
       "...                                                  ...   \n",
       "22719  [1, 1, 1, 1, 1, 1, 1, 1, 1, 1, 1, 1, 0, 0, 0, ...   \n",
       "16940  [1, 1, 1, 1, 1, 1, 1, 1, 1, 1, 1, 1, 0, 0, 0, ...   \n",
       "7679   [1, 1, 1, 1, 1, 1, 1, 1, 1, 1, 1, 1, 1, 1, 1, ...   \n",
       "12289  [1, 1, 1, 1, 1, 1, 1, 1, 1, 1, 1, 1, 1, 1, 1, ...   \n",
       "11722  [1, 1, 1, 1, 1, 1, 1, 1, 1, 1, 1, 1, 1, 1, 1, ...   \n",
       "\n",
       "                                          token_type_ids  \n",
       "50715  [0, 0, 0, 0, 0, 0, 0, 0, 0, 0, 0, 0, 0, 0, 0, ...  \n",
       "37979  [0, 0, 0, 0, 0, 0, 0, 0, 0, 0, 0, 0, 0, 0, 0, ...  \n",
       "12880  [0, 0, 0, 0, 0, 0, 0, 0, 0, 0, 0, 0, 0, 0, 0, ...  \n",
       "36517  [0, 0, 0, 0, 0, 0, 0, 0, 0, 0, 0, 0, 0, 0, 0, ...  \n",
       "57089  [0, 0, 0, 0, 0, 0, 0, 0, 0, 0, 0, 0, 0, 0, 0, ...  \n",
       "...                                                  ...  \n",
       "22719  [0, 0, 0, 0, 0, 0, 0, 0, 0, 0, 0, 0, 0, 0, 0, ...  \n",
       "16940  [0, 0, 0, 0, 0, 0, 0, 0, 0, 0, 0, 0, 0, 0, 0, ...  \n",
       "7679   [0, 0, 0, 0, 0, 0, 0, 0, 0, 0, 0, 0, 0, 0, 0, ...  \n",
       "12289  [0, 0, 0, 0, 0, 0, 0, 0, 0, 0, 0, 0, 0, 0, 0, ...  \n",
       "11722  [0, 0, 0, 0, 0, 0, 0, 0, 0, 0, 0, 0, 0, 0, 0, ...  \n",
       "\n",
       "[6017 rows x 6 columns]"
      ]
     },
     "execution_count": 45,
     "metadata": {},
     "output_type": "execute_result"
    }
   ],
   "source": [
    "df_test"
   ]
  },
  {
   "cell_type": "code",
   "execution_count": 42,
   "metadata": {},
   "outputs": [],
   "source": [
    "df_news = pd.read_json(r\"D:\\华科学习\\毕业设计\\data\\train.json\", lines=True)[:10000]"
   ]
  },
  {
   "cell_type": "code",
   "execution_count": 43,
   "metadata": {},
   "outputs": [],
   "source": [
    "df_news['new_text']=df_news['headline'].apply(lambda x:text_preprocessing(x))"
   ]
  },
  {
   "cell_type": "code",
   "execution_count": 44,
   "metadata": {},
   "outputs": [],
   "source": [
    "encoded_inputs = tokenizer.batch_encode_plus(\n",
    "    df_news['new_text'].tolist(), \n",
    "    padding=True, \n",
    "    truncation=True, \n",
    "    return_tensors='pt'\n",
    ")\n",
    "\n",
    "\n",
    "df_news['input_word_ids']=encoded_inputs['input_ids'].tolist()\n",
    "df_news['attention_mask'] = encoded_inputs['attention_mask'].tolist()\n",
    "df_news['token_type_ids'] = encoded_inputs['token_type_ids'].tolist()"
   ]
  },
  {
   "cell_type": "code",
   "execution_count": 46,
   "metadata": {},
   "outputs": [],
   "source": [
    "class NewsDataset(Dataset):\n",
    "\n",
    "    def __init__(self,df):\n",
    "        super().__init__()\n",
    "        self.df=df\n",
    "        self.word_ids=np.array([word_ids for word_ids in df['input_word_ids']]).astype(int)\n",
    "        self.attention_weights=np.array([attention for attention in df['attention_mask']]).astype(int)\n",
    "        self.token_inputs=np.array([token for token in df['token_type_ids']]).astype(int)\n",
    "\n",
    "        try:\n",
    "            self.y=df['is_sarcastic'].values\n",
    "        except:\n",
    "            self.y=np.zeros(len(df))\n",
    "\n",
    "\n",
    "    def __len__(self):\n",
    "        return len(self.df)\n",
    "\n",
    "    def __getitem__(self,i):\n",
    "        return torch.tensor(self.word_ids[i],dtype=torch.long),torch.tensor(self.attention_weights[i],dtype=torch.long),torch.tensor(self.token_inputs[i],dtype=torch.long),torch.tensor(self.y[i],dtype=torch.long)\n",
    "\n",
    "\n",
    "\n",
    "\n",
    "\n",
    "\n",
    "df_new_dataset=NewsDataset(df_news)"
   ]
  },
  {
   "cell_type": "code",
   "execution_count": 47,
   "metadata": {},
   "outputs": [
    {
     "name": "stderr",
     "output_type": "stream",
     "text": [
      "D:\\Anaconda\\Lib\\site-packages\\torch\\nn\\modules\\conv.py:306: UserWarning:\n",
      "\n",
      "Plan failed with a cudnnException: CUDNN_BACKEND_EXECUTION_PLAN_DESCRIPTOR: cudnnFinalize Descriptor Failed cudnn_status: CUDNN_STATUS_NOT_SUPPORTED (Triggered internally at C:\\actions-runner\\_work\\pytorch\\pytorch\\builder\\windows\\pytorch\\aten\\src\\ATen\\native\\cudnn\\Conv_v8.cpp:919.)\n",
      "\n"
     ]
    },
    {
     "name": "stdout",
     "output_type": "stream",
     "text": [
      "ACC: 0.5172 - Precision: 0.4638 - Recall: 0.4991 - F1: 0.3455\n"
     ]
    },
    {
     "name": "stderr",
     "output_type": "stream",
     "text": [
      "D:\\Anaconda\\Lib\\site-packages\\torch\\nn\\modules\\conv.py:306: UserWarning:\n",
      "\n",
      "Plan failed with a cudnnException: CUDNN_BACKEND_EXECUTION_PLAN_DESCRIPTOR: cudnnFinalize Descriptor Failed cudnn_status: CUDNN_STATUS_NOT_SUPPORTED (Triggered internally at C:\\actions-runner\\_work\\pytorch\\pytorch\\builder\\windows\\pytorch\\aten\\src\\ATen\\native\\cudnn\\Conv_v8.cpp:919.)\n",
      "\n"
     ]
    },
    {
     "name": "stdout",
     "output_type": "stream",
     "text": [
      "ACC: 0.5133 - Precision: 0.4920 - Recall: 0.4978 - F1: 0.3945\n",
      "ACC: 0.5260 - Precision: 0.5225 - Recall: 0.5168 - F1: 0.4886\n",
      "ACC: 0.5072 - Precision: 0.4905 - Recall: 0.4948 - F1: 0.4355\n"
     ]
    }
   ],
   "source": [
    "preds_bigru_cnn=[]\n",
    "preds_cnn=[]\n",
    "preds_bilstm=[]\n",
    "preds_bigru=[]\n",
    "labels=[]\n",
    "test_correct=0\n",
    "device=torch.device('cuda')\n",
    "test_dataloader=DataLoader(df_new_dataset,batch_size=64,shuffle=False)\n",
    "\n",
    "\n",
    "for input_id,token,attention,y in test_dataloader:\n",
    "    input_id,token,attention=input_id.to(device),token.to(device),attention.to(device)\n",
    "\n",
    "    y_preds=model(input_id,token,attention)\n",
    "    predicted_classes = torch.argmax(y_preds, dim=1).cpu().numpy()\n",
    "\n",
    "    # 映射成二分类：0,2 -> 1；1 -> 0\n",
    "    binary_preds = [1 if p in [0, 2] else 0 for p in predicted_classes]\n",
    "    preds_bigru_cnn.extend(binary_preds)\n",
    "\n",
    "    labels.extend(y)\n",
    "\n",
    "    test_correct += sum([p == t for p, t in zip(binary_preds, y)])\n",
    "\n",
    "val_acc = test_correct / len(test_dataloader.dataset)\n",
    "precision = precision_score(labels, preds_bigru_cnn, average='macro')\n",
    "recall = recall_score(labels, preds_bigru_cnn, average='macro')\n",
    "f1 = f1_score(labels, preds_bigru_cnn, average='macro')\n",
    "\n",
    "print(f'ACC: {val_acc:.4f} - Precision: {precision:.4f} - Recall: {recall:.4f} - F1: {f1:.4f}')\n",
    "\n",
    "test_correct=0\n",
    "labels=[]\n",
    "\n",
    "for input_id,token,attention,y in test_dataloader:\n",
    "    input_id,token,attention=input_id.to(device),token.to(device),attention.to(device)\n",
    "\n",
    "    y_preds=cnn(input_id,token,attention)\n",
    "    predicted_classes = torch.argmax(y_preds, dim=1).cpu().numpy()\n",
    "\n",
    "    # 映射成二分类：0,2 -> 1；1 -> 0\n",
    "    binary_preds = [1 if p in [0, 2] else 0 for p in predicted_classes]\n",
    "    preds_cnn.extend(binary_preds)\n",
    "\n",
    "    labels.extend(y)\n",
    "\n",
    "    test_correct += sum([p == t for p, t in zip(binary_preds, y)])\n",
    "\n",
    "val_acc = test_correct / len(test_dataloader.dataset)\n",
    "precision = precision_score(labels, preds_cnn, average='macro')\n",
    "recall = recall_score(labels, preds_cnn, average='macro')\n",
    "f1 = f1_score(labels, preds_cnn, average='macro')\n",
    "\n",
    "print(f'ACC: {val_acc:.4f} - Precision: {precision:.4f} - Recall: {recall:.4f} - F1: {f1:.4f}')\n",
    "\n",
    "test_correct=0\n",
    "labels=[]\n",
    "\n",
    "for input_id,token,attention,y in test_dataloader:\n",
    "    input_id,token,attention=input_id.to(device),token.to(device),attention.to(device)\n",
    "\n",
    "    y_preds=bilstm(input_id,token,attention)\n",
    "    predicted_classes = torch.argmax(y_preds, dim=1).cpu().numpy()\n",
    "\n",
    "    # 映射成二分类：0,2 -> 1；1 -> 0\n",
    "    binary_preds = [1 if p in [0, 2] else 0 for p in predicted_classes]\n",
    "    preds_bilstm.extend(binary_preds)\n",
    "\n",
    "    labels.extend(y)\n",
    "\n",
    "    test_correct += sum([p == t for p, t in zip(binary_preds, y)])\n",
    "\n",
    "val_acc = test_correct / len(test_dataloader.dataset)\n",
    "precision = precision_score(labels, preds_bilstm, average='macro')\n",
    "recall = recall_score(labels, preds_bilstm, average='macro')\n",
    "f1 = f1_score(labels, preds_bilstm, average='macro')\n",
    "\n",
    "print(f'ACC: {val_acc:.4f} - Precision: {precision:.4f} - Recall: {recall:.4f} - F1: {f1:.4f}')\n",
    "\n",
    "\n",
    "test_correct=0\n",
    "labels=[]\n",
    "\n",
    "for input_id,token,attention,y in test_dataloader:\n",
    "    input_id,token,attention=input_id.to(device),token.to(device),attention.to(device)\n",
    "\n",
    "    y_preds=bigru(input_id,token,attention)\n",
    "    predicted_classes = torch.argmax(y_preds, dim=1).cpu().numpy()\n",
    "\n",
    "    # 映射成二分类：0,2 -> 1；1 -> 0\n",
    "    binary_preds = [1 if p in [0, 2] else 0 for p in predicted_classes]\n",
    "    preds_bigru.extend(binary_preds)\n",
    "\n",
    "    labels.extend(y)\n",
    "\n",
    "    test_correct += sum([p == t for p, t in zip(binary_preds, y)])\n",
    "\n",
    "val_acc = test_correct / len(test_dataloader.dataset)\n",
    "precision = precision_score(labels, preds_bigru, average='macro')\n",
    "recall = recall_score(labels, preds_bigru, average='macro')\n",
    "f1 = f1_score(labels, preds_bigru, average='macro')\n",
    "\n",
    "print(f'ACC: {val_acc:.4f} - Precision: {precision:.4f} - Recall: {recall:.4f} - F1: {f1:.4f}')\n"
   ]
  },
  {
   "cell_type": "code",
   "execution_count": null,
   "metadata": {},
   "outputs": [
    {
     "data": {
      "text/plain": [
       "10000"
      ]
     },
     "execution_count": 48,
     "metadata": {},
     "output_type": "execute_result"
    }
   ],
   "source": []
  },
  {
   "cell_type": "code",
   "execution_count": null,
   "metadata": {},
   "outputs": [],
   "source": []
  }
 ],
 "metadata": {
  "kernelspec": {
   "display_name": "base",
   "language": "python",
   "name": "python3"
  },
  "language_info": {
   "codemirror_mode": {
    "name": "ipython",
    "version": 3
   },
   "file_extension": ".py",
   "mimetype": "text/x-python",
   "name": "python",
   "nbconvert_exporter": "python",
   "pygments_lexer": "ipython3",
   "version": "3.9.13"
  }
 },
 "nbformat": 4,
 "nbformat_minor": 2
}
